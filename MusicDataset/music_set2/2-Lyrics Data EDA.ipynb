{
 "cells": [
  {
   "cell_type": "code",
   "execution_count": 1,
   "metadata": {},
   "outputs": [],
   "source": [
    "#import relevant packages\n",
    "import nltk\n",
    "import pandas as pd\n",
    "import numpy as np\n"
   ]
  },
  {
   "cell_type": "code",
   "execution_count": 7,
   "metadata": {},
   "outputs": [
    {
     "data": {
      "text/plain": [
       "Index(['Rank', 'Song', 'Artist', 'Year', 'Lyrics', 'Source'], dtype='object')"
      ]
     },
     "execution_count": 7,
     "metadata": {},
     "output_type": "execute_result"
    }
   ],
   "source": [
    "data = pd.read_csv(\"billboard_lyrics_1964-2015.csv\",delimiter=',', encoding='latin-1')\n",
    "data.columns"
   ]
  },
  {
   "cell_type": "code",
   "execution_count": 11,
   "metadata": {},
   "outputs": [
    {
     "data": {
      "text/plain": [
       "(5100, 6)"
      ]
     },
     "execution_count": 11,
     "metadata": {},
     "output_type": "execute_result"
    }
   ],
   "source": [
    "data.shape"
   ]
  },
  {
   "cell_type": "code",
   "execution_count": 9,
   "metadata": {},
   "outputs": [
    {
     "data": {
      "text/html": [
       "<div>\n",
       "<style scoped>\n",
       "    .dataframe tbody tr th:only-of-type {\n",
       "        vertical-align: middle;\n",
       "    }\n",
       "\n",
       "    .dataframe tbody tr th {\n",
       "        vertical-align: top;\n",
       "    }\n",
       "\n",
       "    .dataframe thead th {\n",
       "        text-align: right;\n",
       "    }\n",
       "</style>\n",
       "<table border=\"1\" class=\"dataframe\">\n",
       "  <thead>\n",
       "    <tr style=\"text-align: right;\">\n",
       "      <th></th>\n",
       "      <th>Rank</th>\n",
       "      <th>Song</th>\n",
       "      <th>Artist</th>\n",
       "      <th>Year</th>\n",
       "      <th>Lyrics</th>\n",
       "      <th>Source</th>\n",
       "    </tr>\n",
       "  </thead>\n",
       "  <tbody>\n",
       "    <tr>\n",
       "      <th>0</th>\n",
       "      <td>1</td>\n",
       "      <td>wooly bully</td>\n",
       "      <td>sam the sham and the pharaohs</td>\n",
       "      <td>1965</td>\n",
       "      <td>sam the sham miscellaneous wooly bully wooly b...</td>\n",
       "      <td>3.0</td>\n",
       "    </tr>\n",
       "    <tr>\n",
       "      <th>1</th>\n",
       "      <td>2</td>\n",
       "      <td>i cant help myself sugar pie honey bunch</td>\n",
       "      <td>four tops</td>\n",
       "      <td>1965</td>\n",
       "      <td>sugar pie honey bunch you know that i love yo...</td>\n",
       "      <td>1.0</td>\n",
       "    </tr>\n",
       "    <tr>\n",
       "      <th>2</th>\n",
       "      <td>3</td>\n",
       "      <td>i cant get no satisfaction</td>\n",
       "      <td>the rolling stones</td>\n",
       "      <td>1965</td>\n",
       "      <td></td>\n",
       "      <td>1.0</td>\n",
       "    </tr>\n",
       "    <tr>\n",
       "      <th>3</th>\n",
       "      <td>4</td>\n",
       "      <td>you were on my mind</td>\n",
       "      <td>we five</td>\n",
       "      <td>1965</td>\n",
       "      <td>when i woke up this morning you were on my mi...</td>\n",
       "      <td>1.0</td>\n",
       "    </tr>\n",
       "    <tr>\n",
       "      <th>4</th>\n",
       "      <td>5</td>\n",
       "      <td>youve lost that lovin feelin</td>\n",
       "      <td>the righteous brothers</td>\n",
       "      <td>1965</td>\n",
       "      <td>you never close your eyes anymore when i kiss...</td>\n",
       "      <td>1.0</td>\n",
       "    </tr>\n",
       "  </tbody>\n",
       "</table>\n",
       "</div>"
      ],
      "text/plain": [
       "   Rank                                      Song  \\\n",
       "0     1                               wooly bully   \n",
       "1     2  i cant help myself sugar pie honey bunch   \n",
       "2     3                i cant get no satisfaction   \n",
       "3     4                       you were on my mind   \n",
       "4     5              youve lost that lovin feelin   \n",
       "\n",
       "                          Artist  Year  \\\n",
       "0  sam the sham and the pharaohs  1965   \n",
       "1                      four tops  1965   \n",
       "2             the rolling stones  1965   \n",
       "3                        we five  1965   \n",
       "4         the righteous brothers  1965   \n",
       "\n",
       "                                              Lyrics  Source  \n",
       "0  sam the sham miscellaneous wooly bully wooly b...     3.0  \n",
       "1   sugar pie honey bunch you know that i love yo...     1.0  \n",
       "2                                                        1.0  \n",
       "3   when i woke up this morning you were on my mi...     1.0  \n",
       "4   you never close your eyes anymore when i kiss...     1.0  "
      ]
     },
     "execution_count": 9,
     "metadata": {},
     "output_type": "execute_result"
    }
   ],
   "source": [
    "data.head()\n"
   ]
  },
  {
   "cell_type": "code",
   "execution_count": 10,
   "metadata": {},
   "outputs": [
    {
     "data": {
      "text/html": [
       "<div>\n",
       "<style scoped>\n",
       "    .dataframe tbody tr th:only-of-type {\n",
       "        vertical-align: middle;\n",
       "    }\n",
       "\n",
       "    .dataframe tbody tr th {\n",
       "        vertical-align: top;\n",
       "    }\n",
       "\n",
       "    .dataframe thead th {\n",
       "        text-align: right;\n",
       "    }\n",
       "</style>\n",
       "<table border=\"1\" class=\"dataframe\">\n",
       "  <thead>\n",
       "    <tr style=\"text-align: right;\">\n",
       "      <th></th>\n",
       "      <th>Rank</th>\n",
       "      <th>Year</th>\n",
       "      <th>Source</th>\n",
       "    </tr>\n",
       "  </thead>\n",
       "  <tbody>\n",
       "    <tr>\n",
       "      <th>count</th>\n",
       "      <td>5100.0000</td>\n",
       "      <td>5100.000000</td>\n",
       "      <td>4913.000000</td>\n",
       "    </tr>\n",
       "    <tr>\n",
       "      <th>mean</th>\n",
       "      <td>50.5000</td>\n",
       "      <td>1990.000000</td>\n",
       "      <td>1.400977</td>\n",
       "    </tr>\n",
       "    <tr>\n",
       "      <th>std</th>\n",
       "      <td>28.8689</td>\n",
       "      <td>14.721045</td>\n",
       "      <td>0.890375</td>\n",
       "    </tr>\n",
       "    <tr>\n",
       "      <th>min</th>\n",
       "      <td>1.0000</td>\n",
       "      <td>1965.000000</td>\n",
       "      <td>1.000000</td>\n",
       "    </tr>\n",
       "    <tr>\n",
       "      <th>25%</th>\n",
       "      <td>25.7500</td>\n",
       "      <td>1977.000000</td>\n",
       "      <td>1.000000</td>\n",
       "    </tr>\n",
       "    <tr>\n",
       "      <th>50%</th>\n",
       "      <td>50.5000</td>\n",
       "      <td>1990.000000</td>\n",
       "      <td>1.000000</td>\n",
       "    </tr>\n",
       "    <tr>\n",
       "      <th>75%</th>\n",
       "      <td>75.2500</td>\n",
       "      <td>2003.000000</td>\n",
       "      <td>1.000000</td>\n",
       "    </tr>\n",
       "    <tr>\n",
       "      <th>max</th>\n",
       "      <td>100.0000</td>\n",
       "      <td>2015.000000</td>\n",
       "      <td>5.000000</td>\n",
       "    </tr>\n",
       "  </tbody>\n",
       "</table>\n",
       "</div>"
      ],
      "text/plain": [
       "            Rank         Year       Source\n",
       "count  5100.0000  5100.000000  4913.000000\n",
       "mean     50.5000  1990.000000     1.400977\n",
       "std      28.8689    14.721045     0.890375\n",
       "min       1.0000  1965.000000     1.000000\n",
       "25%      25.7500  1977.000000     1.000000\n",
       "50%      50.5000  1990.000000     1.000000\n",
       "75%      75.2500  2003.000000     1.000000\n",
       "max     100.0000  2015.000000     5.000000"
      ]
     },
     "execution_count": 10,
     "metadata": {},
     "output_type": "execute_result"
    }
   ],
   "source": [
    "data.describe()"
   ]
  },
  {
   "cell_type": "code",
   "execution_count": null,
   "metadata": {},
   "outputs": [],
   "source": []
  }
 ],
 "metadata": {
  "kernelspec": {
   "display_name": "Python 3",
   "language": "python",
   "name": "python3"
  },
  "language_info": {
   "codemirror_mode": {
    "name": "ipython",
    "version": 3
   },
   "file_extension": ".py",
   "mimetype": "text/x-python",
   "name": "python",
   "nbconvert_exporter": "python",
   "pygments_lexer": "ipython3",
   "version": "3.8.5"
  }
 },
 "nbformat": 4,
 "nbformat_minor": 4
}
