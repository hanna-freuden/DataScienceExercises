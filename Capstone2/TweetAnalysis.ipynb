{
 "cells": [
  {
   "cell_type": "code",
   "execution_count": 3,
   "metadata": {},
   "outputs": [],
   "source": [
    "#import packages \n",
    "import nltk\n",
    "import pandas as pd\n",
    "import numpy as np\n",
    "import matplotlib.pyplot as plt\n",
    "import re, string\n",
    "from nltk.tokenize import word_tokenize\n",
    "from nltk.tag import pos_tag\n",
    "from nltk.corpus import stopwords\n",
    "from nltk import FreqDist\n",
    "from nltk.tokenize import TweetTokenizer\n",
    "from nltk.stem.wordnet import WordNetLemmatizer\n"
   ]
  },
  {
   "cell_type": "code",
   "execution_count": 4,
   "metadata": {},
   "outputs": [
    {
     "name": "stdout",
     "output_type": "stream",
     "text": [
      "   Sr No                                              tweet  label\n",
      "0      1  Hysteria surrounding #coronavirus NZ daycare r...      3\n",
      "1      2  Thank you @TheOnion for dragging all of us und...      1\n",
      "2      3  #avetmissdone is catching on faster than the #...      1\n",
      "3      4  They just said #Tonysnell was back from the fl...      2\n",
      "4      5  Forget locking them up on an island to die slo...      2\n",
      "             Sr No         label\n",
      "count  10000.00000  10000.000000\n",
      "mean    5000.50000      1.879200\n",
      "std     2886.89568      0.784518\n",
      "min        1.00000      1.000000\n",
      "25%     2500.75000      1.000000\n",
      "50%     5000.50000      2.000000\n",
      "75%     7500.25000      3.000000\n",
      "max    10000.00000      3.000000\n"
     ]
    }
   ],
   "source": [
    "#import tweet data\n",
    "data = pd.read_csv(\"tweets_tagged.csv\",delimiter=',',encoding='latin-1')\n",
    "print(data.head())\n",
    "print(data.describe())"
   ]
  },
  {
   "cell_type": "code",
   "execution_count": 5,
   "metadata": {},
   "outputs": [
    {
     "name": "stdout",
     "output_type": "stream",
     "text": [
      "Thank you @TheOnion for dragging all of us under the artful guise of satire. V helpful #coronavirus advice ?? https://t.co/Oly95Sul5f\n",
      "Thank you @TheOnion for dragging all of us under the artful guise of satire. V helpful #coronavirus advice ?? \n"
     ]
    }
   ],
   "source": [
    "#remove urls \n",
    "def remove_URL(sample):\n",
    "    \"\"\"Remove URLs from a string\"\"\"\n",
    "    return re.sub(r\"http\\S+\", \"\", sample)\n",
    "print(data['tweet'][1])\n",
    "data['tweet']=[remove_URL(tweet) for tweet in data['tweet']]\n",
    "print(data['tweet'][1])"
   ]
  },
  {
   "cell_type": "code",
   "execution_count": 6,
   "metadata": {},
   "outputs": [
    {
     "name": "stdout",
     "output_type": "stream",
     "text": [
      "0    Hysteria surrounding #coronavirus NZ daycare r...\n",
      "1    Thank you @TheOnion for dragging all of us und...\n",
      "2    #avetmissdone is catching on faster than the #...\n",
      "5    Please keep posted!?????? #CoronaVirus #Gensan...\n",
      "6     What did Richard Jefferson say? ?? #coronavirus \n",
      "Name: tweet, dtype: object\n",
      "0.5958730158730159\n"
     ]
    }
   ],
   "source": [
    "#seperate dataframe to positive, negative, and both tweets\n",
    "pos_tweets =data['tweet'][data['label']==1]\n",
    "neg_tweets = data['tweet'][data['label']==3]\n",
    "pos_neg_tweets = data['tweet'][data['label']!=2]\n",
    "\n",
    "#examine the data\n",
    "print(pos_neg_tweets.head())\n",
    "print(len(pos_tweets)/len(pos_neg_tweets))"
   ]
  },
  {
   "cell_type": "code",
   "execution_count": 7,
   "metadata": {},
   "outputs": [],
   "source": [
    "#to lower case  \n",
    "pos_neg_tweets = [tweet.lower() for tweet in pos_neg_tweets]\n",
    "pos_tweets = [tweet.lower() for tweet in pos_tweets]\n",
    "neg_tweets = [tweet.lower() for tweet in neg_tweets]"
   ]
  },
  {
   "cell_type": "code",
   "execution_count": 8,
   "metadata": {},
   "outputs": [
    {
     "name": "stdout",
     "output_type": "stream",
     "text": [
      "['thank you @theonion for dragging all of us under the artful guise of satire. v helpful #coronavirus advice ?? ']\n",
      "['hysteria surrounding #coronavirus nz daycare requesting all children who have visited a country with any confirmed cases be excluded for 2 weeks. this includes australia. so, despite us only visiting adelaide where there are no confirmed cases, we are in this category ??']\n"
     ]
    }
   ],
   "source": [
    "print(pos_tweets[:1])\n",
    "print(neg_tweets[:1])"
   ]
  },
  {
   "cell_type": "code",
   "execution_count": 9,
   "metadata": {},
   "outputs": [
    {
     "name": "stdout",
     "output_type": "stream",
     "text": [
      "['#avetmissdone', 'is', 'catching', 'on', 'faster', 'than', 'the', '#coronavirus', '...', 'but', 'no', 'deaths', 'yet', '!', '?', '?']\n",
      "['please', 'keep', 'posted', '!', '?', '?', '?', '#coronavirus', '#gensan', '#stelizabethhospitalinc', '#sehi']\n",
      "['thank', 'you', '@theonion', 'for', 'dragging', 'all', 'of', 'us', 'under', 'the', 'artful', 'guise', 'of', 'satire', '.', 'v', 'helpful', '#coronavirus', 'advice', '?', '?']\n"
     ]
    }
   ],
   "source": [
    "#use Tweet tokenizer (preserves hashtag and @)\n",
    "tknzr = TweetTokenizer()\n",
    "\n",
    "pos_tokens = [tknzr.tokenize(tweet) for tweet in pos_tweets]\n",
    "neg_tokens = [tknzr.tokenize(tweet) for tweet in neg_tweets]\n",
    "tweet_tokens = [tknzr.tokenize(tweet) for tweet in pos_neg_tweets]\n",
    "print(pos_tokens[1])\n",
    "print(neg_tokens[1])\n",
    "print(tweet_tokens[1])"
   ]
  },
  {
   "cell_type": "code",
   "execution_count": 10,
   "metadata": {},
   "outputs": [
    {
     "name": "stdout",
     "output_type": "stream",
     "text": [
      "[('thank', 'NN'), ('you', 'PRP'), ('@theonion', 'VBP'), ('for', 'IN'), ('dragging', 'VBG'), ('all', 'DT'), ('of', 'IN'), ('us', 'PRP'), ('under', 'IN'), ('the', 'DT'), ('artful', 'JJ'), ('guise', 'NN'), ('of', 'IN'), ('satire', 'NN'), ('.', '.'), ('v', 'NN'), ('helpful', 'JJ'), ('#coronavirus', 'NN'), ('advice', 'NN'), ('?', '.'), ('?', '.')]\n"
     ]
    }
   ],
   "source": [
    "#normalization \n",
    "#tagging position of word in sentence\n",
    "#show example for first tweet\n",
    "print(pos_tag(tweet_tokens[1]))"
   ]
  },
  {
   "cell_type": "code",
   "execution_count": 11,
   "metadata": {},
   "outputs": [],
   "source": [
    "#remove noise and lemmatize (copy and pasted from blog)\n",
    "\n",
    "    #I dont know how to remove the following : ''...' '..' '``'\n",
    "    #I found this command to delete all punctuation: s.translate(str.maketrans('', '', string.punctuation)). how would I apply it?\n",
    "def remove_noise(tweet_tokens, stop_words = ()):\n",
    "\n",
    "    cleaned_tokens = []\n",
    "\n",
    "    for token, tag in pos_tag(tweet_tokens):\n",
    "        token = re.sub('http[s]?://(?:[a-zA-Z]|[0-9]|[$-_@.&+#]|[!*\\(\\),]|'\\\n",
    "                       '(?:%[0-9a-fA-F][0-9a-fA-F]))+','', token)\n",
    "        #token = re.sub(\"(@[A-Za-z0-9_]+)\",\"\", token) #this would delete @handles?\n",
    "        token=re.sub(\"([^A-Za-z#])\",\"\", token) #this deletes all numbers and punctuations, though it also transforms #ncov19 to #ncov\n",
    "        if tag.startswith(\"NN\"):\n",
    "            pos = 'n'\n",
    "        elif tag.startswith('VB'):\n",
    "            pos = 'v'\n",
    "        else:\n",
    "            pos = 'a'\n",
    "\n",
    "        lemmatizer = WordNetLemmatizer()\n",
    "        token = lemmatizer.lemmatize(token, pos)\n",
    "        #use if condition to drop single character strings\n",
    "        if len(token) > 1 and token not in string.punctuation and token.lower() not in stop_words:\n",
    "            cleaned_tokens.append(token.lower())\n",
    "    return cleaned_tokens"
   ]
  },
  {
   "cell_type": "code",
   "execution_count": 12,
   "metadata": {},
   "outputs": [],
   "source": [
    "#define stopwords to remove\n",
    "stop_words = stopwords.words('english')"
   ]
  },
  {
   "cell_type": "code",
   "execution_count": 13,
   "metadata": {},
   "outputs": [],
   "source": [
    "#apply remove_noise function\n",
    "pos_tokens_cleaned = []\n",
    "neg_tokens_cleaned = []\n",
    "tweet_tokens_cleaned = []\n",
    "\n",
    "for tokens in pos_tokens:\n",
    "    pos_tokens_cleaned.append(remove_noise(tokens, stop_words))\n",
    "\n",
    "for tokens in neg_tokens:\n",
    "    neg_tokens_cleaned.append(remove_noise(tokens, stop_words))\n",
    "\n",
    "for tokens in tweet_tokens:\n",
    "    tweet_tokens_cleaned.append(remove_noise(tokens, stop_words))"
   ]
  },
  {
   "cell_type": "code",
   "execution_count": 14,
   "metadata": {},
   "outputs": [
    {
     "name": "stdout",
     "output_type": "stream",
     "text": [
      "['thank', 'theonion', 'drag', 'us', 'artful', 'guise', 'satire', 'helpful', '#coronavirus', 'advice']\n",
      "['hysteria', 'surround', '#coronavirus', 'nz', 'daycare', 'request', 'child', 'visit', 'country', 'confirmed', 'case', 'exclude', 'week', 'include', 'australia', 'despite', 'us', 'visit', 'adelaide', 'confirmed', 'case', 'category']\n",
      "['hysteria', 'surround', '#coronavirus', 'nz', 'daycare', 'request', 'child', 'visit', 'country', 'confirmed', 'case', 'exclude', 'week', 'include', 'australia', 'despite', 'us', 'visit', 'adelaide', 'confirmed', 'case', 'category']\n"
     ]
    }
   ],
   "source": [
    "print(pos_tokens_cleaned[0])\n",
    "print(neg_tokens_cleaned[0])\n",
    "print(tweet_tokens_cleaned[0])"
   ]
  },
  {
   "cell_type": "code",
   "execution_count": 15,
   "metadata": {},
   "outputs": [],
   "source": [
    "#Frequencies with get_all_words\n",
    "def get_all_words(cleaned_tokens_list):\n",
    "    for tokens in cleaned_tokens_list:\n",
    "        for token in tokens:\n",
    "            yield token\n",
    "\n",
    "all_tokens = get_all_words(tweet_tokens_cleaned)\n"
   ]
  },
  {
   "cell_type": "code",
   "execution_count": 16,
   "metadata": {},
   "outputs": [
    {
     "name": "stdout",
     "output_type": "stream",
     "text": [
      "[('#coronavirus', 6311), ('china', 737), ('case', 598), ('#coronavirusoutbreak', 575), ('virus', 520), ('#ncov', 510), ('#china', 490), ('spread', 473), ('people', 466), ('get', 365), ('coronavirus', 332), ('#wuhan', 318), ('new', 306), ('death', 305), ('safe', 297), ('go', 270), ('mask', 268), ('late', 262), ('update', 260), ('like', 259), ('us', 256), ('time', 254), ('know', 241), ('outbreak', 241), ('health', 234), ('confirm', 229), ('day', 229), ('say', 227), ('wuhan', 226), ('please', 221), ('corona', 220), ('stay', 217), ('good', 216), ('country', 208), ('news', 208), ('one', 206), ('world', 203), ('infect', 202), ('need', 197), ('make', 196), ('take', 188), ('dont', 183), ('everyone', 181), ('chinese', 180), ('report', 170), ('hospital', 165), ('first', 164), ('see', 164), ('im', 161), ('patient', 160)]\n"
     ]
    }
   ],
   "source": [
    "#word frequencies for all words - this does not allow to plot a histogram\n",
    "freq_dist = FreqDist(all_tokens)\n",
    "print(freq_dist.most_common(50))"
   ]
  },
  {
   "cell_type": "code",
   "execution_count": 17,
   "metadata": {},
   "outputs": [
    {
     "name": "stdout",
     "output_type": "stream",
     "text": [
      "['#coronavirus', 'china', 'case', '#coronavirusoutbreak', 'virus', '#ncov', '#china', 'spread', 'people', 'get', 'coronavirus', '#wuhan', 'new', 'death', 'safe', 'go', 'mask', 'late', 'update', 'like', 'us', 'time', 'know', 'outbreak', 'health', 'confirm', 'day', 'say', 'wuhan', 'please', 'corona', 'stay', 'good', 'country', 'news', 'one', 'world', 'infect', 'need', 'make', 'take', 'dont', 'everyone', 'chinese', 'report', 'hospital', 'first', 'see', 'im', 'patient']\n"
     ]
    }
   ],
   "source": [
    "#count words with counter function to later drop most frequent words and plot a histogram\n",
    "\n",
    "word_counter={}\n",
    "for tweet in tweet_tokens_cleaned:\n",
    "    for word in tweet:\n",
    "        if word != '':\n",
    "            if word in word_counter:\n",
    "                word_counter[word] +=1\n",
    "            else:\n",
    "                word_counter[word] = 1\n",
    "\n",
    "popular_words = sorted(word_counter, key = word_counter.get, reverse = True)\n",
    "top_50=popular_words[:50]\n",
    "top_10 = popular_words[:10]\n",
    "#print top 50 words\n",
    "print(top_50)  \n",
    " "
   ]
  },
  {
   "cell_type": "code",
   "execution_count": 18,
   "metadata": {},
   "outputs": [
    {
     "data": {
      "image/png": "[encoded data removed]",
      "text/plain": [
       "<Figure size 1080x720 with 1 Axes>"
      ]
     },
     "metadata": {
      "needs_background": "light"
     },
     "output_type": "display_data"
    }
   ],
   "source": [
    "#plot most distribution of 50 most common words\n",
    "#get values of word_counter for most common 50 words\n",
    "freq = []\n",
    "words = []\n",
    "sorted_freq=dict(sorted(word_counter.items(), key=lambda item: item[1], reverse=True))\n",
    "for key, value in sorted_freq.items():\n",
    "    if key in top_50:\n",
    "        freq.append(value)\n",
    "        words.append(key)\n",
    "#make bar plot of most frequent words\n",
    "fig, ax = plt.subplots(figsize=(15, 10))\n",
    "plt.bar(height=freq, x=words, width=0.8)\n",
    "plt.xticks(rotation=90)\n",
    "plt.tick_params(axis='both', which='major', labelsize=20)\n",
    "\n",
    "plt.show()\n"
   ]
  },
  {
   "cell_type": "code",
   "execution_count": 62,
   "metadata": {},
   "outputs": [
    {
     "name": "stdout",
     "output_type": "stream",
     "text": [
      "[['hysteria', 'surround', '#coronavirus', 'nz', 'daycare', 'request', 'child', 'visit', 'country', 'confirmed', 'case', 'exclude', 'week', 'include', 'australia', 'despite', 'us', 'visit', 'adelaide', 'confirmed', 'case', 'category'], ['please', 'keep', 'post', '#coronavirus', '#gensan', '#stelizabethhospitalinc', '#sehi'], ['richard', 'jefferson', 'say', '#coronavirus'], ['halt', 'commercial', 'flight', '#china', '#usa', '#coronavirus'], ['future', 'triple', 'digit', 'happy', 'atm', 'seem', 'unless', 'stock', '#coronavirus', 'relate', 'best', 'sideline', 'play', 'seem', 'best', 'play'], ['name', '#coronavirus'], ['imagine', 'virus', 'come', 'name', 'coronavirus', 'symptom', 'computer', '#coronavirus', '#coronavirusec', '#coronaphobia', '#protectyourpc'], ['kinda', '#coronavirus', 'screening'], ['least', 'dead', 'confirm', 'case', '#coronavirus', 'across', 'world', 'least', 'outside', '#china', 'nearly', 'million', 'partial', 'full', 'lockdown', 'china', '#coronaviruschina', '#coronarvirues', '#coronavirusec'], ['total', 'number', 'case', '#coronavirus', 'worldwide', 'reach', 'case', 'tibet', 'confirm', 'mean', 'virus', 'spread', 'province', 'municipality', 'autonomous', 'region', 'mainland', '#china', '#coronaoutbreak']]\n"
     ]
    }
   ],
   "source": [
    "#make list of pos and negative words from list of tweets to be able to delete most frequent words and count words looping over list\n",
    "pos_words = []\n",
    "neg_words = []\n",
    "\n",
    "for tweet in pos_tokens_cleaned:\n",
    "    for word in tweet:\n",
    "        pos_words.append(word)\n",
    "        \n",
    "for tweet in neg_tokens_cleaned:\n",
    "    for word in tweet:\n",
    "        neg_words.append(word)\n",
    " \n"
   ]
  },
  {
   "cell_type": "code",
   "execution_count": 20,
   "metadata": {},
   "outputs": [],
   "source": [
    "#count and plot top words in positive and negative tweets that are not in top50\n",
    "count_pos={}\n",
    "for word in pos_words:\n",
    "    if word not in top_50:\n",
    "        if word in count_pos:\n",
    "            count_pos[word] +=1\n",
    "        else:\n",
    "            count_pos[word] = 1\n",
    "\n",
    "popular_pos_words = sorted(count_pos, key = count_pos.get, reverse = True)\n",
    "top_20_pos_words=popular_pos_words[:20]\n",
    "count_neg={}\n",
    "for word in neg_words:\n",
    "    if word not in top_50:\n",
    "        if word in count_neg:\n",
    "            count_neg[word] +=1\n",
    "        else:\n",
    "            count_neg[word] = 1\n",
    "\n",
    "popular_neg_words = sorted(count_neg, key = count_neg.get, reverse = True)\n",
    "top_20_neg_words=popular_neg_words[:20]"
   ]
  },
  {
   "cell_type": "code",
   "execution_count": 21,
   "metadata": {},
   "outputs": [],
   "source": [
    "#get frequencies from dictionaries in a sorted way as tuples for plotting top20\n",
    "#positive\n",
    "freq_pos = []\n",
    "words_pos = []\n",
    "sorted_freq_pos= [(k, v) for k, v in count_pos.items()]\n",
    "sorted_freq_pos=sorted(sorted_freq_pos, key=lambda tup: tup[1], reverse=True)\n",
    "words_pos = [a for (a,_) in sorted_freq_pos]\n",
    "freq_pos = [b for (_,b) in sorted_freq_pos]\n",
    "\n",
    "\n"
   ]
  },
  {
   "cell_type": "code",
   "execution_count": 22,
   "metadata": {},
   "outputs": [],
   "source": [
    "#negative\n",
    "freq_neg = []\n",
    "words_neg = []\n",
    "sorted_freq_neg= [(k, v) for k, v in count_neg.items()]\n",
    "sorted_freq_neg=sorted(sorted_freq_neg, key=lambda tup: tup[1], reverse=True)\n",
    "words_neg = [a for (a,_) in sorted_freq_neg]\n",
    "freq_neg = [b for (_,b) in sorted_freq_neg]\n",
    "\n"
   ]
  },
  {
   "cell_type": "code",
   "execution_count": 23,
   "metadata": {},
   "outputs": [
    {
     "data": {
      "image/png": "[encoded data removed]",
      "text/plain": [
       "<Figure size 720x360 with 2 Axes>"
      ]
     },
     "metadata": {
      "needs_background": "light"
     },
     "output_type": "display_data"
    },
    {
     "data": {
      "text/plain": [
       "Text(0.5, 0.98, 'Most common words in positive and negative tweets')"
      ]
     },
     "execution_count": 23,
     "metadata": {},
     "output_type": "execute_result"
    },
    {
     "data": {
      "text/plain": [
       "<Figure size 432x288 with 0 Axes>"
      ]
     },
     "metadata": {},
     "output_type": "display_data"
    }
   ],
   "source": [
    "#make bar plot of frequencies - I don't know how to improve readability of axis labels\n",
    "fig, ax = plt.subplots(figsize=(10, 5))\n",
    "plt.subplot(1,2,1)\n",
    "\n",
    "#This will create first plot\n",
    "neg = plt.bar(words_neg[:20], freq_neg[:20])\n",
    "plt.title('Negative tweets')\n",
    "plt.ylabel('Word frequency')\n",
    "plt.xticks(rotation='vertical')\n",
    "plt.tick_params(axis='both', which='major', labelsize=13)\n",
    "#The below code will create the second plot.\n",
    "plt.subplot(1,2,2)\n",
    "#This will create the second plot\n",
    "pos =plt.bar(words_pos[:20], freq_pos[:20])\n",
    "plt.title('Positive tweets')\n",
    "plt.xticks( rotation='vertical')\n",
    "plt.tick_params(axis='both', which='major', labelsize=13)\n",
    "plt.show()     \n",
    "plt.suptitle('Most common words in positive and negative tweets')\n"
   ]
  },
  {
   "cell_type": "code",
   "execution_count": 35,
   "metadata": {},
   "outputs": [],
   "source": [
    "#preparing data for modelling\n",
    "#make dict out of lists of tokens with keys = tokens and values=true\n",
    "\n",
    "def get_tweets_for_model(cleaned_tokens_list):\n",
    "    for tweet_tokens in cleaned_tokens_list:\n",
    "        yield dict([token, True] for token in tweet_tokens)\n",
    "\n",
    "positive_tokens_for_model = get_tweets_for_model(pos_tokens_cleaned)\n",
    "negative_tokens_for_model = get_tweets_for_model(neg_tokens_cleaned)"
   ]
  },
  {
   "cell_type": "code",
   "execution_count": 36,
   "metadata": {},
   "outputs": [
    {
     "name": "stdout",
     "output_type": "stream",
     "text": [
      "4410\n",
      "[({'anyone': True, 'watch': True, 'video': True, 'china': True, '#coronavirus': True, 'seem': True, 'bad': True, 'tell': True}, 'Negative'), ({'everyone': True, 'lockdown': True, 'welcome': True, 'open': True, 'arm': True, '#coronavirus': True}, 'Negative'), ({'#thai': True, 'medic': True, 'claim': True, '#coronavirus': True, 'breakthrough': True, 'patient': True, 'serious': True, 'condition': True, 'declare': True, 'diseasefree': True, '#coronavirusoutbreak': True}, 'Positive'), ({'update': True, 'daily': True, 'situation': True, 'report': True, 'novel': True, '#coronavirus': True, 'ncov': True}, 'Positive'), ({'richard': True, 'jefferson': True, 'say': True, '#coronavirus': True}, 'Negative'), ({'#plattscommoditynews': True, 'america': True, 'jan': True, 'factbox': True, 'commodity': True, 'market': True, 'weaken': True, '#coronavirus': True, 'spread': True, '#crudeoil': True, 'slide': True, 'extend': True, 'podcast': True, 'signpost': True, 'energy': True, 'transition': True}, 'Negative'), ({'think': True, 'enough': True, 'internet': True, 'today': True, '#coronavirus': True}, 'Negative'), ({'#coronavirus': True, 'claim': True, 'life': True, '#china': True, 'hit': True, 'dangerous': True, 'hn': True, '#birdflu': True, 'outbreak': True, 'via': True, 'indiatvnews': True}, 'Positive'), ({'word': True, '#coronavirus': True, '#globalcrisis': True, '#agenda': True, '#nwo': True}, 'Positive'), ({'#coronavirus': True, 'russia': True, 'possible': True, 'several': True, 'case': True, 'visitor': True, 'china': True, 'show': True, 'symptom': True, 'four': True, 'season': True, 'hotel': True, 'moscow': True, 'retweet': True, 'truth': True}, 'Negative')]\n"
     ]
    }
   ],
   "source": [
    "#test and training set split for Naive Bayes model\n",
    "#joining positive and negative tweets with additional tag, and shuffle into 1 set\n",
    "import random\n",
    "\n",
    "positive_dataset = [(tweet_dict, \"Positive\")\n",
    "                     for tweet_dict in positive_tokens_for_model]\n",
    "\n",
    "negative_dataset = [(tweet_dict, \"Negative\")\n",
    "                     for tweet_dict in negative_tokens_for_model]\n",
    "\n",
    "dataset = positive_dataset + negative_dataset\n",
    "random.shuffle(dataset)\n",
    "\n",
    "#we have 6,300 tweets after dropping the neutral ones\n",
    "train_size=int(len(dataset)*0.7) # set training dataset size to 0.7 of all data\n",
    "print(train_size)\n",
    "train_data = dataset[:train_size]\n",
    "test_data = dataset[train_size:]\n",
    "print(dataset[:10])"
   ]
  },
  {
   "cell_type": "code",
   "execution_count": 30,
   "metadata": {
    "scrolled": true
   },
   "outputs": [
    {
     "name": "stdout",
     "output_type": "stream",
     "text": [
      "Accuracy is: 0.6105820105820106\n",
      "Most Informative Features\n",
      "                 respect = True           Positi : Negati =     19.3 : 1.0\n",
      "                 service = True           Positi : Negati =      7.7 : 1.0\n",
      "                  theyre = True           Positi : Negati =      7.7 : 1.0\n",
      "              southkorea = True           Negati : Positi =      7.2 : 1.0\n",
      "                  worker = True           Positi : Negati =      6.7 : 1.0\n",
      "                  kerala = True           Negati : Positi =      6.6 : 1.0\n",
      "                  extend = True           Negati : Positi =      6.6 : 1.0\n",
      "           #coronoavirus = True           Negati : Positi =      6.2 : 1.0\n",
      "                   #live = True           Negati : Positi =      6.2 : 1.0\n",
      "                  export = True           Negati : Positi =      6.2 : 1.0\n",
      "None\n",
      "<nltk.classify.naivebayes.NaiveBayesClassifier object at 0x00000253264913A0>\n"
     ]
    }
   ],
   "source": [
    "#Building model\n",
    "from nltk import classify\n",
    "from nltk import NaiveBayesClassifier\n",
    "classifier = NaiveBayesClassifier.train(train_data)\n",
    "\n",
    "print(\"Accuracy is:\", classify.accuracy(classifier, test_data))\n",
    "print(classifier.show_most_informative_features(10))\n"
   ]
  },
  {
   "cell_type": "code",
   "execution_count": 58,
   "metadata": {},
   "outputs": [
    {
     "name": "stdout",
     "output_type": "stream",
     "text": [
      "['I was wondering if anyone out there could enlighten me on this car I saw\\nthe other day. It was a 2-door sports car, looked to be from the late 60s/\\nearly 70s. It was called a Bricklin. The doors were really small. In addition,\\nthe front bumper was separate from the rest of the body. This is \\nall I know. If anyone can tellme a model name, engine specs, years\\nof production, where this car is made, history, or whatever info you\\nhave on this funky looking car, please e-mail.', \"A fair number of brave souls who upgraded their SI clock oscillator have\\nshared their experiences for this poll. Please send a brief message detailing\\nyour experiences with the procedure. Top speed attained, CPU rated speed,\\nadd on cards and adapters, heat sinks, hour of usage per day, floppy disk\\nfunctionality with 800 and 1.4 m floppies are especially requested.\\n\\nI will be summarizing in the next two days, so please add to the network\\nknowledge base if you have done the clock upgrade and haven't answered this\\npoll. Thanks.\"]\n"
     ]
    }
   ],
   "source": [
    "#Transform dataset to use other models\n",
    "#requires count vectorization - basically the same as above but would take into account when tokens occur multiple times in tweet?!\n",
    "from sklearn.feature_extraction.text import CountVectorizer\n",
    "\n",
    "from sklearn.naive_bayes import MultinomialNB\n",
    "from sklearn import metrics\n",
    "\n",
    "\n",
    "from sklearn.datasets import fetch_20newsgroups\n",
    "\n",
    "# Create our vectorizer\n",
    "vectorizer = CountVectorizer()\n",
    "\n",
    "# All data\n",
    "newsgroups_train = fetch_20newsgroups(subset='train',\n",
    "                                      remove=('headers', 'footers', 'quotes'))\n",
    "newsgroups_test = fetch_20newsgroups(subset='test',\n",
    "                                     remove=('headers', 'footers', 'quotes'))\n",
    "print(newsgroups_train.data[:2])"
   ]
  },
  {
   "cell_type": "code",
   "execution_count": 92,
   "metadata": {},
   "outputs": [
    {
     "name": "stdout",
     "output_type": "stream",
     "text": [
      "4410\n"
     ]
    }
   ],
   "source": [
    "#to use count vectorization, format of x (tweets) needs to be a simple list of strings\n",
    "\n",
    "neg_list = []\n",
    "pos_list = []\n",
    "\n",
    "for tweet in neg_tokens_cleaned:\n",
    "    tw=''\n",
    "    for word in tweet:\n",
    "        tw=tw+word+' '\n",
    "    tw=tw[:-1] #get rid of space at the end of tweet\n",
    "    neg_list.append(tw)\n",
    "\n",
    "for tweet in pos_tokens_cleaned:\n",
    "    tw=''\n",
    "    for word in tweet:\n",
    "        tw=tw+word+' '\n",
    "    tw=tw[:-1] #get rid of space at the end of tweet\n",
    "    pos_list.append(tw)\n",
    "    \n",
    "#add positive and negative category and shuffle\n",
    "\n",
    "pos_set = [(tweet, 1)\n",
    "                     for tweet in pos_list]\n",
    "\n",
    "\n",
    "neg_set = [(tweet, 0)\n",
    "                     for tweet in neg_list]\n",
    "\n",
    "ds = pos_set + neg_set\n",
    "random.shuffle(ds)\n",
    "\n",
    "#we have 6,300 tweets after dropping the neutral ones\n",
    "train_size=int(len(ds)*0.7) # set training dataset size to 0.7 of all data\n",
    "print(train_size)\n",
    "train_data = ds[:train_size]\n",
    "test_data = ds[train_size:]\n",
    "\n",
    "\n",
    "#generate x_train, y_train, x_test, y_test\n",
    "x_test = [a for (a,_) in test_data]\n",
    "x_train = [a for (a,_) in train_data]\n",
    "y_test = [b for (_,b) in test_data]\n",
    "y_train = [b for (_,b) in  train_data]\n"
   ]
  },
  {
   "cell_type": "code",
   "execution_count": 93,
   "metadata": {},
   "outputs": [
    {
     "name": "stdout",
     "output_type": "stream",
     "text": [
      "Total accuracy classification score: 0.6132275132275132\n",
      "Total F1 classification score: 0.5876169573755343\n"
     ]
    }
   ],
   "source": [
    "from sklearn.feature_extraction.text import CountVectorizer\n",
    "\n",
    "from sklearn.naive_bayes import MultinomialNB\n",
    "from sklearn import metrics\n",
    "\n",
    "# Create our vectorizer\n",
    "vectorizer = CountVectorizer()\n",
    "\n",
    "# Get the training vectors\n",
    "vectors = vectorizer.fit_transform(x_train)\n",
    "\n",
    "# Build the classifier\n",
    "clf = MultinomialNB(alpha=.01)\n",
    "\n",
    "#  Train the classifier\n",
    "clf.fit(vectors, y_train)\n",
    "\n",
    "# Get the test vectors\n",
    "vectors_test = vectorizer.transform(x_test)\n",
    "\n",
    "# Predict and score the vectors\n",
    "pred = clf.predict(vectors_test)\n",
    "acc_score = metrics.accuracy_score(y_test, pred)\n",
    "f1_score = metrics.f1_score(y_test, pred, average='macro')\n",
    "\n",
    "print('Total accuracy classification score: {}'.format(acc_score))\n",
    "print('Total F1 classification score: {}'.format(f1_score))\n",
    "\n"
   ]
  },
  {
   "cell_type": "code",
   "execution_count": 95,
   "metadata": {},
   "outputs": [
    {
     "name": "stdout",
     "output_type": "stream",
     "text": [
      "No Skill: ROC AUC=0.500\n",
      "Logistic: ROC AUC=0.601\n"
     ]
    },
    {
     "data": {
      "image/png": "[encoded data removed]",
      "text/plain": [
       "<Figure size 432x288 with 1 Axes>"
      ]
     },
     "metadata": {
      "needs_background": "light"
     },
     "output_type": "display_data"
    }
   ],
   "source": [
    "#ROC curve\n",
    "\n",
    "\n",
    "\n",
    "#From blog\n",
    "from sklearn.metrics import roc_curve\n",
    "from sklearn.metrics import roc_auc_score\n",
    "\n",
    "\n",
    "# predict probabilities\n",
    "nb_probs = clf.predict_proba(vectors_test)\n",
    "# keep probabilities for the positive outcome only\n",
    "nb_probs=nb_probs[:, 1]\n",
    "# calculate scores\n",
    "# generate a no skill prediction (majority class)\n",
    "ns_probs = [0 for _ in range(len(y_test))]\n",
    "ns_auc = roc_auc_score(y_test, ns_probs)\n",
    "nb_auc = roc_auc_score(y_test, nb_probs)\n",
    "# summarize scores\n",
    "print('No Skill: ROC AUC=%.3f' % (ns_auc))\n",
    "print('Logistic: ROC AUC=%.3f' % (nb_auc))\n",
    "# calculate roc curves\n",
    "ns_fpr, ns_tpr, _ = roc_curve(y_test, ns_probs)\n",
    "nb_fpr, nb_tpr, _ = roc_curve(y_test, nb_probs)\n",
    "# plot the roc curve for the model\n",
    "plt.plot(ns_fpr, ns_tpr, linestyle='--', label='No Skill')\n",
    "plt.plot(nb_fpr, nb_tpr, marker='.', label='Naive Bayes')\n",
    "# axis labels\n",
    "plt.xlabel('False Positive Rate')\n",
    "plt.ylabel('True Positive Rate')\n",
    "# show the legend\n",
    "plt.legend()\n",
    "# show the plot\n",
    "plt.show()"
   ]
  },
  {
   "cell_type": "code",
   "execution_count": null,
   "metadata": {},
   "outputs": [],
   "source": []
  }
 ],
 "metadata": {
  "kernelspec": {
   "display_name": "Python 3",
   "language": "python",
   "name": "python3"
  },
  "language_info": {
   "codemirror_mode": {
    "name": "ipython",
    "version": 3
   },
   "file_extension": ".py",
   "mimetype": "text/x-python",
   "name": "python",
   "nbconvert_exporter": "python",
   "pygments_lexer": "ipython3",
   "version": "3.8.5"
  }
 },
 "nbformat": 4,
 "nbformat_minor": 4
}
