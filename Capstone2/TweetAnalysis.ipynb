{
 "cells": [
  {
   "cell_type": "code",
   "execution_count": 1,
   "metadata": {},
   "outputs": [],
   "source": [
    "#import packages \n",
    "import nltk\n",
    "import pandas as pd\n",
    "import numpy as np\n",
    "import matplotlib.pyplot as plt\n",
    "import re, string\n",
    "from nltk.tokenize import word_tokenize\n",
    "from nltk.tag import pos_tag\n",
    "from nltk.corpus import stopwords\n",
    "from nltk import FreqDist\n"
   ]
  },
  {
   "cell_type": "code",
   "execution_count": 2,
   "metadata": {},
   "outputs": [
    {
     "name": "stdout",
     "output_type": "stream",
     "text": [
      "   Sr No                                              tweet  label\n",
      "0      1  Hysteria surrounding #coronavirus NZ daycare r...      3\n",
      "1      2  Thank you @TheOnion for dragging all of us und...      1\n",
      "2      3  #avetmissdone is catching on faster than the #...      1\n",
      "3      4  They just said #Tonysnell was back from the fl...      2\n",
      "4      5  Forget locking them up on an island to die slo...      2\n"
     ]
    }
   ],
   "source": [
    "#import tweet data\n",
    "data = pd.read_csv(\"tweets_tagged.csv\",delimiter=',',encoding='latin-1')\n",
    "print(data.head())"
   ]
  },
  {
   "cell_type": "code",
   "execution_count": 3,
   "metadata": {},
   "outputs": [
    {
     "name": "stdout",
     "output_type": "stream",
     "text": [
      "Thank you @TheOnion for dragging all of us under the artful guise of satire. V helpful #coronavirus advice ?? https://t.co/Oly95Sul5f\n",
      "Thank you @TheOnion for dragging all of us under the artful guise of satire. V helpful #coronavirus advice ?? \n"
     ]
    }
   ],
   "source": [
    "#remove urls \n",
    "def remove_URL(sample):\n",
    "    \"\"\"Remove URLs from a sample string\"\"\"\n",
    "    return re.sub(r\"http\\S+\", \"\", sample)\n",
    "print(data['tweet'][1])\n",
    "data['tweet']=[remove_URL(tweet) for tweet in data['tweet']]\n",
    "print(data['tweet'][1])"
   ]
  },
  {
   "cell_type": "code",
   "execution_count": 4,
   "metadata": {},
   "outputs": [
    {
     "name": "stdout",
     "output_type": "stream",
     "text": [
      "0    Hysteria surrounding #coronavirus NZ daycare r...\n",
      "1    Thank you @TheOnion for dragging all of us und...\n",
      "2    #avetmissdone is catching on faster than the #...\n",
      "5    Please keep posted!?????? #CoronaVirus #Gensan...\n",
      "6     What did Richard Jefferson say? ?? #coronavirus \n",
      "Name: tweet, dtype: object\n"
     ]
    }
   ],
   "source": [
    "#seperate dataframe to positive, negative, and both tweets\n",
    "pos_tweets =data['tweet'][data['label']==1]\n",
    "neg_tweets = data['tweet'][data['label']==3]\n",
    "pos_neg_tweets = data['tweet'][data['label']!=2]\n",
    "\n",
    "#examine the data\n",
    "print(pos_neg_tweets.head())\n"
   ]
  },
  {
   "cell_type": "code",
   "execution_count": 5,
   "metadata": {},
   "outputs": [],
   "source": [
    "#to lower case  \n",
    "pos_neg_tweets = [tweet.lower() for tweet in pos_neg_tweets]\n",
    "pos_tweets = [tweet.lower() for tweet in pos_tweets]\n",
    "neg_tweets = [tweet.lower() for tweet in neg_tweets]"
   ]
  },
  {
   "cell_type": "code",
   "execution_count": 6,
   "metadata": {},
   "outputs": [
    {
     "name": "stdout",
     "output_type": "stream",
     "text": [
      "['thank you @theonion for dragging all of us under the artful guise of satire. v helpful #coronavirus advice ?? ']\n",
      "['hysteria surrounding #coronavirus nz daycare requesting all children who have visited a country with any confirmed cases be excluded for 2 weeks. this includes australia. so, despite us only visiting adelaide where there are no confirmed cases, we are in this category ??']\n"
     ]
    }
   ],
   "source": [
    "print(pos_tweets[:1])\n",
    "print(neg_tweets[:1])"
   ]
  },
  {
   "cell_type": "code",
   "execution_count": 7,
   "metadata": {},
   "outputs": [
    {
     "name": "stdout",
     "output_type": "stream",
     "text": [
      "['#', 'avetmissdone', 'is', 'catching', 'on', 'faster', 'than', 'the', '#', 'coronavirus', '...', 'but', 'no', 'deaths', 'yet', '!', '?', '?']\n",
      "['please', 'keep', 'posted', '!', '?', '?', '?', '?', '?', '?', '#', 'coronavirus', '#', 'gensan', '#', 'stelizabethhospitalinc', '#', 'sehi']\n",
      "['thank', 'you', '@', 'theonion', 'for', 'dragging', 'all', 'of', 'us', 'under', 'the', 'artful', 'guise', 'of', 'satire', '.', 'v', 'helpful', '#', 'coronavirus', 'advice', '?', '?']\n"
     ]
    }
   ],
   "source": [
    "#use tokenizer \n",
    "pos_tokens = [word_tokenize(tweet) for tweet in pos_tweets]\n",
    "neg_tokens = [word_tokenize(tweet) for tweet in neg_tweets]\n",
    "tweet_tokens = [word_tokenize(tweet) for tweet in pos_neg_tweets]\n",
    "print(pos_tokens[1])\n",
    "print(neg_tokens[1])\n",
    "print(tweet_tokens[1])"
   ]
  },
  {
   "cell_type": "code",
   "execution_count": 8,
   "metadata": {},
   "outputs": [
    {
     "name": "stdout",
     "output_type": "stream",
     "text": [
      "[('thank', 'NN'), ('you', 'PRP'), ('@', 'VBP'), ('theonion', 'NN'), ('for', 'IN'), ('dragging', 'VBG'), ('all', 'DT'), ('of', 'IN'), ('us', 'PRP'), ('under', 'IN'), ('the', 'DT'), ('artful', 'JJ'), ('guise', 'NN'), ('of', 'IN'), ('satire', 'NN'), ('.', '.'), ('v', 'JJ'), ('helpful', 'JJ'), ('#', '#'), ('coronavirus', 'NN'), ('advice', 'NN'), ('?', '.'), ('?', '.')]\n"
     ]
    }
   ],
   "source": [
    "#normalization \n",
    "#tagging position of word in sentence\n",
    "#show example for first tweet\n",
    "print(pos_tag(tweet_tokens[1]))"
   ]
  },
  {
   "cell_type": "code",
   "execution_count": 9,
   "metadata": {},
   "outputs": [
    {
     "name": "stdout",
     "output_type": "stream",
     "text": [
      "['hysteria', 'surround', '#', 'coronavirus', 'nz', 'daycare', 'request', 'all', 'child', 'who', 'have', 'visit', 'a', 'country', 'with', 'any', 'confirmed', 'case', 'be', 'exclude', 'for', '2', 'week', '.', 'this', 'include', 'australia', '.', 'so', ',', 'despite', 'us', 'only', 'visit', 'adelaide', 'where', 'there', 'be', 'no', 'confirmed', 'case', ',', 'we', 'be', 'in', 'this', 'category', '?', '?']\n"
     ]
    }
   ],
   "source": [
    "#apply lemmatizer\n",
    "from nltk.stem.wordnet import WordNetLemmatizer\n",
    "def lemmatize_sentence(tokens): #copy and pasted from blog\n",
    "    lemmatizer = WordNetLemmatizer()\n",
    "    lemmatized_sentence = []\n",
    "    for word, tag in pos_tag(tokens):\n",
    "        if tag.startswith('NN'):\n",
    "            pos = 'n'\n",
    "        elif tag.startswith('VB'):\n",
    "            pos = 'v'\n",
    "        else:\n",
    "            pos = 'a'\n",
    "        lemmatized_sentence.append(lemmatizer.lemmatize(word, pos))\n",
    "    return lemmatized_sentence\n",
    "\n",
    "print(lemmatize_sentence(neg_tokens[0]))"
   ]
  },
  {
   "cell_type": "code",
   "execution_count": 10,
   "metadata": {},
   "outputs": [],
   "source": [
    "#remove noise (copy and pasted from blog)\n",
    "\n",
    "    #I dont know how to remove the following : ''...' '..' '``'\n",
    "    #I found this command to delete all punctuation: s.translate(str.maketrans('', '', string.punctuation)). how would I apply it?\n",
    "def remove_noise(tweet_tokens, stop_words = ()):\n",
    "\n",
    "    cleaned_tokens = []\n",
    "\n",
    "    for token, tag in pos_tag(tweet_tokens):\n",
    "        token = re.sub('http[s]?://(?:[a-zA-Z]|[0-9]|[$-_@.&+#]|[!*\\(\\),]|'\\\n",
    "                       '(?:%[0-9a-fA-F][0-9a-fA-F]))+','', token)\n",
    "        token = re.sub(\"(@[A-Za-z0-9_]+)\",\"\", token)\n",
    "\n",
    "        if tag.startswith(\"NN\"):\n",
    "            pos = 'n'\n",
    "        elif tag.startswith('VB'):\n",
    "            pos = 'v'\n",
    "        else:\n",
    "            pos = 'a'\n",
    "\n",
    "        lemmatizer = WordNetLemmatizer()\n",
    "        token = lemmatizer.lemmatize(token, pos)\n",
    "        \n",
    "        if len(token) > 0 and token not in string.punctuation and token.lower() not in stop_words:\n",
    "            cleaned_tokens.append(token.lower())\n",
    "    return cleaned_tokens"
   ]
  },
  {
   "cell_type": "code",
   "execution_count": 11,
   "metadata": {},
   "outputs": [],
   "source": [
    "#define stopwords to remove\n",
    "stop_words = stopwords.words('english')"
   ]
  },
  {
   "cell_type": "code",
   "execution_count": 12,
   "metadata": {},
   "outputs": [],
   "source": [
    "#apply remove_noise function\n",
    "pos_tokens_cleaned = []\n",
    "neg_tokens_cleaned = []\n",
    "tweet_tokens_cleaned = []\n",
    "\n",
    "for tokens in pos_tokens:\n",
    "    pos_tokens_cleaned.append(remove_noise(tokens, stop_words))\n",
    "\n",
    "for tokens in neg_tokens:\n",
    "    neg_tokens_cleaned.append(remove_noise(tokens, stop_words))\n",
    "\n",
    "for tokens in tweet_tokens:\n",
    "    tweet_tokens_cleaned.append(remove_noise(tokens, stop_words))"
   ]
  },
  {
   "cell_type": "code",
   "execution_count": 13,
   "metadata": {},
   "outputs": [
    {
     "name": "stdout",
     "output_type": "stream",
     "text": [
      "['thank', 'theonion', 'drag', 'us', 'artful', 'guise', 'satire', 'v', 'helpful', 'coronavirus', 'advice']\n",
      "['hysteria', 'surround', 'coronavirus', 'nz', 'daycare', 'request', 'child', 'visit', 'country', 'confirmed', 'case', 'exclude', '2', 'week', 'include', 'australia', 'despite', 'us', 'visit', 'adelaide', 'confirmed', 'case', 'category']\n",
      "['hysteria', 'surround', 'coronavirus', 'nz', 'daycare', 'request', 'child', 'visit', 'country', 'confirmed', 'case', 'exclude', '2', 'week', 'include', 'australia', 'despite', 'us', 'visit', 'adelaide', 'confirmed', 'case', 'category']\n"
     ]
    }
   ],
   "source": [
    "print(pos_tokens_cleaned[0])\n",
    "print(neg_tokens_cleaned[0])\n",
    "print(tweet_tokens_cleaned[0])"
   ]
  },
  {
   "cell_type": "code",
   "execution_count": 14,
   "metadata": {},
   "outputs": [],
   "source": [
    "#Frequencies with get_all_words\n",
    "def get_all_words(cleaned_tokens_list):\n",
    "    for tokens in cleaned_tokens_list:\n",
    "        for token in tokens:\n",
    "            yield token\n",
    "\n",
    "all_tokens = get_all_words(tweet_tokens_cleaned)\n"
   ]
  },
  {
   "cell_type": "code",
   "execution_count": 15,
   "metadata": {},
   "outputs": [
    {
     "name": "stdout",
     "output_type": "stream",
     "text": [
      "[('coronavirus', 6621), ('china', 1223), ('case', 597), (\"'s\", 596), ('virus', 587), ('coronavirusoutbreak', 575), ('wuhan', 541), ('...', 528), ('spread', 467), ('people', 467), ('amp', 420), ('get', 372), ('corona', 323), ('new', 307), ('death', 306), ('health', 299), ('safe', 295), ('mask', 278), ('us', 274), ('update', 273), ('go', 269), ('outbreak', 265), (\"n't\", 265), ('late', 265), ('like', 259), ('time', 250), (\"''\", 229), ('confirm', 228), ('say', 226), ('know', 225), ('day', 225), ('news', 223), ('please', 221), ('stay', 217), ('good', 215), ('world', 209), ('chinese', 207), ('country', 206), ('``', 204), ('one', 204), ('1', 199), ('need', 196), ('infect', 195), ('make', 193), ('..', 192), ('2', 186), ('everyone', 186), ('take', 185), ('2019ncov', 185), ('hospital', 170)]\n"
     ]
    }
   ],
   "source": [
    "#word frequencies for all words - this does not allow to plot a histogram\n",
    "freq_dist = FreqDist(all_tokens)\n",
    "print(freq_dist.most_common(50))"
   ]
  },
  {
   "cell_type": "code",
   "execution_count": 16,
   "metadata": {},
   "outputs": [
    {
     "name": "stdout",
     "output_type": "stream",
     "text": [
      "['coronavirus', 'china', 'case', \"'s\", 'virus', 'coronavirusoutbreak', 'wuhan', '...', 'spread', 'people', 'amp', 'get', 'corona', 'new', 'death', 'health', 'safe', 'mask', 'us', 'update', 'go', 'outbreak', \"n't\", 'late', 'like', 'time', \"''\", 'confirm', 'say', 'know', 'day', 'news', 'please', 'stay', 'good', 'world', 'chinese', 'country', '``', 'one', '1', 'need', 'infect', 'make', '..', '2', 'everyone', 'take', '2019ncov', 'hospital']\n"
     ]
    }
   ],
   "source": [
    "#count words with counter function to later drop most frequent words and plot a histogram\n",
    "\n",
    "word_counter={}\n",
    "for tweet in tweet_tokens_cleaned:\n",
    "    for word in tweet:\n",
    "        if word in word_counter:\n",
    "            word_counter[word] +=1\n",
    "        else:\n",
    "            word_counter[word] = 1\n",
    "\n",
    "popular_words = sorted(word_counter, key = word_counter.get, reverse = True)\n",
    "top_50=popular_words[:50]\n",
    "top_10 = popular_words[:10]\n",
    "#print top 50 words\n",
    "print(top_50)  \n",
    " "
   ]
  },
  {
   "cell_type": "code",
   "execution_count": 17,
   "metadata": {},
   "outputs": [],
   "source": [
    "#plot most distribution of 50 most common words\n",
    "#get values of word_counter for most common 50 words\n",
    "freq = []\n",
    "words = []\n",
    "sorted_freq=dict(sorted(word_counter.items(), key=lambda item: item[1], reverse=True))\n",
    "for key, value in sorted_freq.items():\n",
    "    if key in top_50:\n",
    "        freq.append(value)\n",
    "        words.append(key)\n"
   ]
  },
  {
   "cell_type": "code",
   "execution_count": 18,
   "metadata": {},
   "outputs": [
    {
     "data": {
      "image/png": "[encoded data removed]",
      "text/plain": [
       "<Figure size 432x288 with 1 Axes>"
      ]
     },
     "metadata": {
      "needs_background": "light"
     },
     "output_type": "display_data"
    }
   ],
   "source": [
    "#make bar plot of most frequent words\n",
    "plt.bar(height=freq, x=words, width=0.8)\n",
    "plt.xticks(rotation=90)\n",
    "plt.tick_params(axis='both', which='major', labelsize=8)\n",
    "plt.show()"
   ]
  },
  {
   "cell_type": "code",
   "execution_count": 20,
   "metadata": {},
   "outputs": [],
   "source": [
    "#make list of pos and negative words from list of tweets to be able to delete most frequent words and count words with counter function looping over list\n",
    "pos_words = []\n",
    "neg_words = []\n",
    "\n",
    "for tweet in pos_tokens_cleaned:\n",
    "    for word in tweet:\n",
    "        pos_words.append(word)\n",
    "        \n",
    "for tweet in neg_tokens_cleaned:\n",
    "    for word in tweet:\n",
    "        neg_words.append(word)\n",
    "        "
   ]
  },
  {
   "cell_type": "code",
   "execution_count": 40,
   "metadata": {},
   "outputs": [],
   "source": [
    "#count and plot top words in positive and negative tweets that are not in top50\n",
    "count_pos={}\n",
    "for word in pos_words:\n",
    "    if word not in top_50:\n",
    "        if word in count_pos:\n",
    "            count_pos[word] +=1\n",
    "        else:\n",
    "            count_pos[word] = 1\n",
    "\n",
    "popular_pos_words = sorted(count_pos, key = count_pos.get, reverse = True)\n",
    "top_20_pos_words=popular_pos_words[:20]\n",
    "count_neg={}\n",
    "for word in neg_words:\n",
    "    if word not in top_50:\n",
    "        if word in count_neg:\n",
    "            count_neg[word] +=1\n",
    "        else:\n",
    "            count_neg[word] = 1\n",
    "\n",
    "popular_neg_words = sorted(count_neg, key = count_neg.get, reverse = True)\n",
    "top_20_neg_words=popular_neg_words[:20]"
   ]
  },
  {
   "cell_type": "code",
   "execution_count": 42,
   "metadata": {},
   "outputs": [],
   "source": [
    "#get frequencies from dictionaries in a sorted way\n",
    "freq_pos = []\n",
    "words_pos = []\n",
    "sorted_freq_pos=dict(sorted(count_pos.items(), key=lambda item: item[1], reverse=True))\n",
    "\n",
    "\n",
    "for key, value in sorted_freq_pos.items():\n",
    "    if key in top_20_pos_words:\n",
    "        freq_pos.append(value)\n",
    "        words_pos.append(key)\n",
    "        \n",
    "freq_neg = []\n",
    "words_neg = []\n",
    "sorted_freq_neg=dict(sorted(count_neg.items(), key=lambda item: item[1], reverse=True))\n",
    "for key, value in sorted_freq_neg.items():\n",
    "    if key in top_20_neg_words:\n",
    "        freq_neg.append(value)\n",
    "        words_neg.append(key)\n"
   ]
  },
  {
   "cell_type": "code",
   "execution_count": 48,
   "metadata": {},
   "outputs": [
    {
     "data": {
      "image/png": "[encoded data removed]",
      "text/plain": [
       "<Figure size 432x288 with 2 Axes>"
      ]
     },
     "metadata": {
      "needs_background": "light"
     },
     "output_type": "display_data"
    },
    {
     "data": {
      "text/plain": [
       "Text(0.5, 0.98, 'Most common words in positive and negative tweets')"
      ]
     },
     "execution_count": 48,
     "metadata": {},
     "output_type": "execute_result"
    },
    {
     "data": {
      "text/plain": [
       "<Figure size 432x288 with 0 Axes>"
      ]
     },
     "metadata": {},
     "output_type": "display_data"
    }
   ],
   "source": [
    "#make bar plot of frequencies - I don't know how to improve readability of axis labels\n",
    "plt.subplot(1,2,1)\n",
    "#This will create first plot\n",
    "pop = plt.bar(words_neg, freq_neg)\n",
    "plt.title('Negative tweets')\n",
    "plt.ylabel('Word frequency')\n",
    "plt.xticks(rotation='vertical')\n",
    "#The below code will create the second plot.\n",
    "plt.subplot(1,2,2)\n",
    "#This will createthe second plot\n",
    "gdp =plt.bar(words_pos, freq_pos)\n",
    "plt.title('Positive tweets')\n",
    "plt.xticks( rotation='vertical')\n",
    "plt.show()     \n",
    "plt.suptitle('Most common words in positive and negative tweets')\n"
   ]
  },
  {
   "cell_type": "code",
   "execution_count": null,
   "metadata": {},
   "outputs": [],
   "source": []
  }
 ],
 "metadata": {
  "kernelspec": {
   "display_name": "Python 3",
   "language": "python",
   "name": "python3"
  },
  "language_info": {
   "codemirror_mode": {
    "name": "ipython",
    "version": 3
   },
   "file_extension": ".py",
   "mimetype": "text/x-python",
   "name": "python",
   "nbconvert_exporter": "python",
   "pygments_lexer": "ipython3",
   "version": "3.8.5"
  }
 },
 "nbformat": 4,
 "nbformat_minor": 4
}
