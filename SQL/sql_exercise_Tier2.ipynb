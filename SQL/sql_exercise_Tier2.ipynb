{
 "cells": [
  {
   "cell_type": "markdown",
   "metadata": {},
   "source": [
    "PART 1: PHPMyAdmin\n",
    "You will complete questions 1-9 below in the PHPMyAdmin interface. \n",
    "Log in by pasting the following URL into your browser, and\n",
    "using the following Username and Password:\n",
    "\n",
    "/* QUESTIONS \n",
    "\n",
    "/* Q1: Some of the facilities charge a fee to members, but some do not.\n",
    "Write a SQL query to produce a list of the names of the facilities that do. */\n",
    "\n",
    "SELECT name\n",
    "FROM `Facilities`\n",
    "WHERE membercost >0;\n",
    "\n",
    "/* Q2: How many facilities do not charge a fee to members? */\n",
    "\n",
    "SELECT COUNT( facid )\n",
    "FROM `Facilities`\n",
    "WHERE membercost =0;\n",
    "\n",
    "/* Q3: Write an SQL query to show a list of facilities that charge a fee to members,\n",
    "where the fee is less than 20% of the facility's monthly maintenance cost.\n",
    "Return the facid, facility name, member cost, and monthly maintenance of the\n",
    "facilities in question. */\n",
    "SELECT facid, name, membercost, monthlymaintenance\n",
    "FROM `Facilities`\n",
    "WHERE membercost < 0.2 * monthlymaintenance;\n",
    "\n",
    "/* Q4: Write an SQL query to retrieve the details of facilities with ID 1 and 5.\n",
    "Try writing the query without using the OR operator. */\n",
    "\n",
    "SELECT *\n",
    "FROM `Facilities`\n",
    "WHERE facid\n",
    "IN ( 1, 5 );\n",
    "\n",
    "/* Q5: Produce a list of facilities, with each labelled as\n",
    "'cheap' or 'expensive', depending on if their monthly maintenance cost is\n",
    "more than $100. Return the name and monthly maintenance of the facilities\n",
    "in question. */\n",
    "\n",
    "SELECT name, monthlymaintenance,\n",
    "CASE\n",
    "WHEN monthlymaintenance >100\n",
    "THEN \"expensive\"\n",
    "ELSE \"cheap\"\n",
    "END AS price_cat\n",
    "FROM Facilities;\n",
    "\n",
    "/* Q6: You'd like to get the first and last name of the last member(s)\n",
    "who signed up. Try not to use the LIMIT clause for your solution. */\n",
    "\n",
    "SELECT surname, firstname\n",
    "FROM `Members`\n",
    "WHERE joindate = (\n",
    "SELECT MAX( joindate )\n",
    "FROM Members ) AND memid!=0;\n",
    "\n",
    "/* Q7: Produce a list of all members who have used a tennis court.\n",
    "Include in your output the name of the court, and the name of the member\n",
    "formatted as a single column. Ensure no duplicate data, and order by\n",
    "the member name. */\n",
    "\n",
    "SELECT DISTINCT(CONCAT(surname, \" \", firstname)) AS name, f.name AS court_name FROM `Members` as m\n",
    "LEFT JOIN Bookings AS b\n",
    "ON m.memid=b.memid\n",
    "LEFT JOIN Facilities AS f\n",
    "ON b.facid=f.facid\n",
    "WHERE b.facid IN (0,1) AND b.memid!=0\n",
    "ORDER BY name;\n",
    "\n",
    "/* Q8: Produce a list of bookings on the day of 2012-09-14 which\n",
    "will cost the member (or guest) more than $30. Remember that guests have\n",
    "different costs to members (the listed costs are per half-hour 'slot'), and\n",
    "the guest user's ID is always 0. Include in your output the name of the\n",
    "facility, the name of the member formatted as a single column, and the cost.\n",
    "Order by descending cost, and do not use any subqueries. */\n",
    "\n",
    "SELECT f.name AS facility_name, CONCAT(m.surname, \" \", m.firstname) AS member_name, \n",
    "CASE WHEN m.memid!=0 THEN membercost*slots\n",
    "\tELSE guestcost*slots END AS cost \n",
    "FROM Bookings AS b\n",
    "LEFT JOIN Members AS m\n",
    "ON b.memid=m.memid\n",
    "LEFT JOIN Facilities AS f\n",
    "ON  b.facid=f.facid\n",
    "WHERE DATE(starttime)=\"2012-09-14\"\n",
    "AND guestcost*slots>30 OR membercost*slots>30\n",
    "ORDER BY  cost  DESC;\n",
    "\n",
    "/* Q9: This time, produce the same result as in Q8, but using a subquery. */\n",
    "\n",
    "SELECT facility_name, member_name, cost\n",
    "FROM \n",
    "(SELECT f.name AS facility_name, CONCAT(m.surname, \" \", m.firstname) AS member_name, \n",
    "CASE WHEN m.memid!=0 THEN membercost*slots\n",
    "\tELSE guestcost*slots END AS cost \n",
    " FROM Bookings AS b\n",
    " LEFT JOIN Members AS m\n",
    "ON b.memid=m.memid\n",
    " LEFT JOIN Facilities AS f\n",
    "ON  b.facid=f.facid\n",
    " WHERE DATE(starttime)=\"2012-09-14\"\n",
    "AND guestcost*slots>30 OR membercost*slots>30) AS sub\n",
    "ORDER BY  cost  DESC"
   ]
  },
  {
   "cell_type": "markdown",
   "metadata": {},
   "source": [
    "/* PART 2: SQLite\n",
    "\n",
    "Export the country club data from PHPMyAdmin, and connect to a local SQLite instance from Jupyter notebook \n",
    "for the following questions.  "
   ]
  },
  {
   "cell_type": "code",
   "execution_count": 1,
   "metadata": {},
   "outputs": [],
   "source": [
    "from sqlalchemy import create_engine\n",
    "import pandas as pd\n",
    "engine = create_engine('sqlite:///sqlite_db_pythonsqlite.db')\n"
   ]
  },
  {
   "cell_type": "code",
   "execution_count": 2,
   "metadata": {},
   "outputs": [
    {
     "name": "stdout",
     "output_type": "stream",
     "text": [
      "['Bookings', 'Facilities', 'Members']\n"
     ]
    }
   ],
   "source": [
    "table_names = engine.table_names()\n",
    "print(table_names)"
   ]
  },
  {
   "cell_type": "markdown",
   "metadata": {},
   "source": [
    "QUESTIONS:\n",
    "/* Q10: Produce a list of facilities with a total revenue less than 1000.\n",
    "The output of facility name and total revenue, sorted by revenue. Remember\n",
    "that there's a different cost for guests and members! */"
   ]
  },
  {
   "cell_type": "code",
   "execution_count": 3,
   "metadata": {},
   "outputs": [
    {
     "name": "stdout",
     "output_type": "stream",
     "text": [
      "     facility_name  total_revenue\n",
      "0  Badminton Court              0\n",
      "1     Table Tennis              0\n",
      "2    Snooker Table              0\n",
      "3       Pool Table              0\n"
     ]
    }
   ],
   "source": [
    "df = pd.read_sql_query(\"SELECT * FROM (SELECT f.name AS facility_name, CASE WHEN memid!=0 THEN SUM(membercost*slots) ELSE SUM(guestcost*slots) END AS total_revenue  FROM bookings AS b LEFT JOIN Facilities AS f ON b.facid=f.facid GROUP BY f.facid) WHERE total_revenue<1000 ORDER BY total_revenue DESC;\", engine)\n",
    "print(df)   "
   ]
  },
  {
   "cell_type": "markdown",
   "metadata": {},
   "source": [
    "#Q11: Produce a report of members and who recommended them in alphabetic surname,firstname order */\n"
   ]
  },
  {
   "cell_type": "code",
   "execution_count": 4,
   "metadata": {},
   "outputs": [
    {
     "name": "stdout",
     "output_type": "stream",
     "text": [
      "  member_surname member_firstname recommender_surname recommender_firstname\n",
      "0          Bader         Florence            Stibbons                Ponder\n",
      "1          Baker             Anne            Stibbons                Ponder\n",
      "2          Baker          Timothy             Farrell                Jemima\n",
      "3         Boothe              Tim              Rownam                   Tim\n",
      "4        Butters           Gerald               Smith                Darren\n",
      "5         Coplin             Joan               Baker               Timothy\n",
      "6        Crumpet            Erica               Smith                 Tracy\n",
      "7           Dare            Nancy            Joplette                Janice\n",
      "8        Genting          Matthew             Butters                Gerald\n",
      "9           Hunt             John             Purview             Millicent\n"
     ]
    }
   ],
   "source": [
    "df1 = pd.read_sql_query(\"SELECT m.surname AS member_surname,m.firstname AS member_firstname,   sub.surname AS recommender_surname, sub.firstname AS recommender_firstname FROM Members AS m  LEFT JOIN Members AS sub ON m.recommendedby=sub.memid WHERE m.recommendedby IS NOT NULL AND sub.recommendedby IS NOT NULL ORDER BY m.surname, m.firstname;\", engine)\n",
    "print(df1.head(10))"
   ]
  },
  {
   "cell_type": "markdown",
   "metadata": {},
   "source": [
    "/* Q12: Find the facilities with their usage by member, but not guests */"
   ]
  },
  {
   "cell_type": "code",
   "execution_count": 5,
   "metadata": {},
   "outputs": [
    {
     "name": "stdout",
     "output_type": "stream",
     "text": [
      "      facility_name  total_no_usages   surname firstname\n",
      "0    Tennis Court 1                1     Bader  Florence\n",
      "1    Tennis Court 2                8     Bader  Florence\n",
      "2   Badminton Court                9     Bader  Florence\n",
      "3      Table Tennis               42     Bader  Florence\n",
      "4    Massage Room 2                2     Bader  Florence\n",
      "..              ...              ...       ...       ...\n",
      "95       Pool Table                8     Jones     David\n",
      "96       Pool Table                2     Jones   Douglas\n",
      "97   Tennis Court 1               19  Joplette    Janice\n",
      "98   Tennis Court 2                8  Joplette    Janice\n",
      "99     Table Tennis                9  Joplette    Janice\n",
      "\n",
      "[100 rows x 4 columns]\n"
     ]
    }
   ],
   "source": [
    "#NOT SURE WHAT IS MEANT BY THIS TASK. NO OF USAGES PER MEMBER? ONLY TOTAL NO OF USAGES BY ALL MEMBERS; OR HOW OFTEN EACH MEMBERS USED EACH FACILITY?\n",
    "df2 = pd.read_sql_query(\"SELECT f.name AS facility_name, COUNT(b.bookid) AS total_no_usages, m.surname, m.firstname FROM Facilities AS f  LEFT JOIN Bookings AS b ON f.facid=b.facid LEFT JOIN Members AS m ON m.memid=b.memid WHERE b.memid!=0 GROUP BY f.facid, b.memid ORDER BY surname;\", engine)\n",
    "print(df2.head(100))"
   ]
  },
  {
   "cell_type": "markdown",
   "metadata": {},
   "source": [
    "/* Q13: Find the facilities usage by month, but not guests */"
   ]
  },
  {
   "cell_type": "code",
   "execution_count": 6,
   "metadata": {},
   "outputs": [
    {
     "name": "stdout",
     "output_type": "stream",
     "text": [
      "   month    facility_name  total_no_usages_month\n",
      "0     07       Pool Table                    103\n",
      "1     07   Massage Room 1                     77\n",
      "2     07    Snooker Table                     68\n",
      "3     07   Tennis Court 1                     65\n",
      "4     07  Badminton Court                     51\n",
      "5     07     Table Tennis                     48\n",
      "6     07   Tennis Court 2                     41\n",
      "7     07     Squash Court                     23\n",
      "8     07   Massage Room 2                      4\n",
      "9     08       Pool Table                    272\n",
      "10    08    Snooker Table                    154\n",
      "11    08   Massage Room 1                    153\n",
      "12    08     Table Tennis                    143\n",
      "13    08  Badminton Court                    132\n",
      "14    08   Tennis Court 1                    111\n",
      "15    08   Tennis Court 2                    109\n",
      "16    08     Squash Court                     85\n",
      "17    08   Massage Room 2                      9\n",
      "18    09       Pool Table                    408\n",
      "19    09    Snooker Table                    199\n",
      "20    09     Table Tennis                    194\n",
      "21    09   Massage Room 1                    191\n",
      "22    09  Badminton Court                    161\n",
      "23    09   Tennis Court 1                    132\n",
      "24    09   Tennis Court 2                    126\n",
      "25    09     Squash Court                     87\n",
      "26    09   Massage Room 2                     14\n"
     ]
    }
   ],
   "source": [
    "#SAME DOUBT AS ABOVE\n",
    "df3 = pd.read_sql_query(\"SELECT strftime('%m', b.starttime) AS month, f.name AS facility_name, COUNT(b.bookid) AS total_no_usages_month FROM Facilities AS f  LEFT JOIN Bookings AS b ON f.facid=b.facid WHERE b.memid!=0 GROUP BY strftime('%m', b.starttime), f.facid  ORDER BY strftime('%m', b.starttime), COUNT(b.bookid) DESC ;\", engine)\n",
    "print(df3)\n"
   ]
  }
 ],
 "metadata": {
  "kernelspec": {
   "display_name": "Python 3",
   "language": "python",
   "name": "python3"
  },
  "language_info": {
   "codemirror_mode": {
    "name": "ipython",
    "version": 3
   },
   "file_extension": ".py",
   "mimetype": "text/x-python",
   "name": "python",
   "nbconvert_exporter": "python",
   "pygments_lexer": "ipython3",
   "version": "3.8.5"
  }
 },
 "nbformat": 4,
 "nbformat_minor": 4
}
