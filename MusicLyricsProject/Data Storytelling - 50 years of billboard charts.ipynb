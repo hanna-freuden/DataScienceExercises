{
 "cells": [
  {
   "cell_type": "markdown",
   "metadata": {},
   "source": [
    "# What happened to pop music lyrics in the last 50 years?¶\n",
    "\n",
    "This notebook analyzes the lyrics of pop songs contained in the Billboard Year-End Hot 100 between 1965 and 2015, which measures their performances throughout the year in the U.S. \n",
    "Data Source: https://github.com/walkerkq/musiclyrics"
   ]
  },
  {
   "cell_type": "code",
   "execution_count": 1,
   "metadata": {},
   "outputs": [],
   "source": [
    "import pandas as pd\n",
    "import numpy as np\n",
    "import seaborn as sns\n",
    "import matplotlib.pyplot as plt\n",
    "from nltk import word_tokenize\n",
    "from nltk.corpus import stopwords\n",
    "from nltk.stem import WordNetLemmatizer\n",
    "from wordcloud import WordCloud"
   ]
  },
  {
   "cell_type": "code",
   "execution_count": 2,
   "metadata": {},
   "outputs": [],
   "source": [
    "df2 = pd.read_csv(\"billboard_lyrics_1964-2015.csv\",delimiter=',', encoding='latin-1')"
   ]
  },
  {
   "cell_type": "markdown",
   "metadata": {},
   "source": [
    "## 1. Basic summary of dataset"
   ]
  },
  {
   "cell_type": "markdown",
   "metadata": {},
   "source": [
    "The dataset contains 5100 songs and 6 features."
   ]
  },
  {
   "cell_type": "code",
   "execution_count": 3,
   "metadata": {},
   "outputs": [
    {
     "name": "stdout",
     "output_type": "stream",
     "text": [
      "These are the features:  ['Rank', 'Song', 'Artist', 'Year', 'Lyrics', 'Source']\n"
     ]
    }
   ],
   "source": [
    "print(\"These are the features: \", list(df2.columns))"
   ]
  },
  {
   "cell_type": "code",
   "execution_count": 4,
   "metadata": {},
   "outputs": [
    {
     "data": {
      "text/plain": [
       "(5100, 6)"
      ]
     },
     "execution_count": 4,
     "metadata": {},
     "output_type": "execute_result"
    }
   ],
   "source": [
    "df2.shape"
   ]
  },
  {
   "cell_type": "markdown",
   "metadata": {},
   "source": [
    "For the analysis, we drop all song rows with missing information. "
   ]
  },
  {
   "cell_type": "code",
   "execution_count": 5,
   "metadata": {},
   "outputs": [],
   "source": [
    "# drop rows with missing values\n",
    "df2.dropna(axis=0, how='any',inplace=True)\n",
    "df2 = df2[df2.Lyrics != \" NA \"]\n",
    "df2.dropna( how='any', subset=['Lyrics'], inplace=True)\n",
    "#reset index\n",
    "df2.reset_index(inplace=True, drop=True)"
   ]
  },
  {
   "cell_type": "code",
   "execution_count": 6,
   "metadata": {},
   "outputs": [
    {
     "name": "stdout",
     "output_type": "stream",
     "text": [
      "The number of remaining songs is:  4897\n"
     ]
    }
   ],
   "source": [
    "print(\"The number of remaining songs is: \", df2.shape[0])"
   ]
  },
  {
   "cell_type": "markdown",
   "metadata": {},
   "source": [
    "## 2. Analysis of Billboard top 100 songs "
   ]
  },
  {
   "cell_type": "code",
   "execution_count": 7,
   "metadata": {},
   "outputs": [],
   "source": [
    "#PREPROCESSING\n",
    "# apply word tokenizer, delete stopwords, and apply lemmatizer\n",
    "tokens=[]\n",
    "stop_words = set(stopwords.words('english'))\n",
    "lemmatizer = WordNetLemmatizer()\n",
    "\n",
    "for row in df2.Lyrics:\n",
    "    row_tokens=word_tokenize(row)\n",
    "    filtered_sent = [w for w in row_tokens if not w.lower() in stop_words]\n",
    "    stemmed = [lemmatizer.lemmatize(word) for word in filtered_sent]\n",
    "    tokens.append(stemmed)"
   ]
  },
  {
   "cell_type": "code",
   "execution_count": 8,
   "metadata": {},
   "outputs": [],
   "source": [
    "#add tokens to dataframe\n",
    "df2['Tokens']=tokens"
   ]
  },
  {
   "cell_type": "markdown",
   "metadata": {},
   "source": [
    "First, lets see how the number of unique words per song has evolved over time..."
   ]
  },
  {
   "cell_type": "code",
   "execution_count": 9,
   "metadata": {},
   "outputs": [],
   "source": [
    "#get no of unique words per song lyric\n",
    "count_words=[]\n",
    "for row in df2.Tokens:\n",
    "    unique = set(row) \n",
    "    count_words.append(len(unique))\n",
    "#and add to df\n",
    "df2[\"unique_words\"]=count_words"
   ]
  },
  {
   "cell_type": "code",
   "execution_count": 10,
   "metadata": {},
   "outputs": [],
   "source": [
    "#keep only rows where no of words !=0\n",
    "df2=df2[df2['unique_words']!=0]\n",
    "#and remove songs that are instrumental\n",
    "df2=df2[df2['Lyrics']!='instrumental']\n",
    "df2=df2[df2['Lyrics']!=' instrumental']\n",
    "df2=df2[df2['Lyrics']!=' instrumental ']\n",
    "df2=df2[df2['Lyrics']!='instrumental ']"
   ]
  },
  {
   "cell_type": "code",
   "execution_count": 11,
   "metadata": {},
   "outputs": [],
   "source": [
    "words_by_y=df2.groupby('Year').mean()[['unique_words']]"
   ]
  },
  {
   "cell_type": "code",
   "execution_count": 12,
   "metadata": {},
   "outputs": [
    {
     "data": {
      "image/png": "[encoded data removed]",
      "text/plain": [
       "<Figure size 432x288 with 1 Axes>"
      ]
     },
     "metadata": {
      "needs_background": "light"
     },
     "output_type": "display_data"
    }
   ],
   "source": [
    "ax = sns.lineplot(data=words_by_y).set(title='Unique words by year', xlabel='year', ylabel='Avg. no. of unique words per song')"
   ]
  },
  {
   "cell_type": "code",
   "execution_count": 13,
   "metadata": {},
   "outputs": [
    {
     "name": "stdout",
     "output_type": "stream",
     "text": [
      "Year of peak sophistication in lyrics:  2015 No of words:  124\n"
     ]
    }
   ],
   "source": [
    "print(\"Year of peak sophistication in lyrics: \", words_by_y.index.max(), \"No of words: \", round(words_by_y.max()[0]))"
   ]
  },
  {
   "cell_type": "markdown",
   "metadata": {},
   "source": [
    "In 2015, the top 100 songs contained, on average, 124 words, while they only contained less than 50 in 1965. Since 2015, words per song are on a downwards trend. "
   ]
  },
  {
   "cell_type": "markdown",
   "metadata": {},
   "source": [
    "### And what are the songs with the most and least no. of words?"
   ]
  },
  {
   "cell_type": "markdown",
   "metadata": {},
   "source": [
    "Most words"
   ]
  },
  {
   "cell_type": "code",
   "execution_count": 14,
   "metadata": {},
   "outputs": [
    {
     "data": {
      "text/html": [
       "<div>\n",
       "<style scoped>\n",
       "    .dataframe tbody tr th:only-of-type {\n",
       "        vertical-align: middle;\n",
       "    }\n",
       "\n",
       "    .dataframe tbody tr th {\n",
       "        vertical-align: top;\n",
       "    }\n",
       "\n",
       "    .dataframe thead th {\n",
       "        text-align: right;\n",
       "    }\n",
       "</style>\n",
       "<table border=\"1\" class=\"dataframe\">\n",
       "  <thead>\n",
       "    <tr style=\"text-align: right;\">\n",
       "      <th></th>\n",
       "      <th>Artist</th>\n",
       "      <th>Song</th>\n",
       "      <th>Year</th>\n",
       "      <th>Lyrics</th>\n",
       "      <th>unique_words</th>\n",
       "    </tr>\n",
       "  </thead>\n",
       "  <tbody>\n",
       "    <tr>\n",
       "      <th>3157</th>\n",
       "      <td>puff daddy featuring the notorious big and mase</td>\n",
       "      <td>been around the world</td>\n",
       "      <td>1998</td>\n",
       "      <td>intro mase yo yo this mase youknowhatimsayin ...</td>\n",
       "      <td>347</td>\n",
       "    </tr>\n",
       "  </tbody>\n",
       "</table>\n",
       "</div>"
      ],
      "text/plain": [
       "                                               Artist                   Song  \\\n",
       "3157  puff daddy featuring the notorious big and mase  been around the world   \n",
       "\n",
       "      Year                                             Lyrics  unique_words  \n",
       "3157  1998   intro mase yo yo this mase youknowhatimsayin ...           347  "
      ]
     },
     "execution_count": 14,
     "metadata": {},
     "output_type": "execute_result"
    }
   ],
   "source": [
    "df2[['Artist', 'Song', 'Year','Lyrics', 'unique_words']].loc[ df2[\"unique_words\"]==df2[\"unique_words\"].max()]\n"
   ]
  },
  {
   "cell_type": "markdown",
   "metadata": {},
   "source": [
    "Least words - excluding instrumental songs"
   ]
  },
  {
   "cell_type": "code",
   "execution_count": 15,
   "metadata": {},
   "outputs": [
    {
     "data": {
      "text/html": [
       "<div>\n",
       "<style scoped>\n",
       "    .dataframe tbody tr th:only-of-type {\n",
       "        vertical-align: middle;\n",
       "    }\n",
       "\n",
       "    .dataframe tbody tr th {\n",
       "        vertical-align: top;\n",
       "    }\n",
       "\n",
       "    .dataframe thead th {\n",
       "        text-align: right;\n",
       "    }\n",
       "</style>\n",
       "<table border=\"1\" class=\"dataframe\">\n",
       "  <thead>\n",
       "    <tr style=\"text-align: right;\">\n",
       "      <th></th>\n",
       "      <th>Artist</th>\n",
       "      <th>Song</th>\n",
       "      <th>Year</th>\n",
       "      <th>Lyrics</th>\n",
       "      <th>unique_words</th>\n",
       "    </tr>\n",
       "  </thead>\n",
       "  <tbody>\n",
       "    <tr>\n",
       "      <th>155</th>\n",
       "      <td>the surfaris</td>\n",
       "      <td>wipe out</td>\n",
       "      <td>1966</td>\n",
       "      <td>wipe out ha ha ha</td>\n",
       "      <td>2</td>\n",
       "    </tr>\n",
       "  </tbody>\n",
       "</table>\n",
       "</div>"
      ],
      "text/plain": [
       "           Artist      Song  Year               Lyrics  unique_words\n",
       "155  the surfaris  wipe out  1966   wipe out ha ha ha              2"
      ]
     },
     "execution_count": 15,
     "metadata": {},
     "output_type": "execute_result"
    }
   ],
   "source": [
    "df2[['Artist', 'Song', 'Year','Lyrics', 'unique_words']].loc[ df2[\"unique_words\"]==df2[\"unique_words\"].min()]"
   ]
  },
  {
   "cell_type": "markdown",
   "metadata": {},
   "source": [
    "### The number of words has increased considerably. But what are the top 20 words in all 50 years of Billboard music?"
   ]
  },
  {
   "cell_type": "markdown",
   "metadata": {},
   "source": [
    "...we start with a simple word cloud"
   ]
  },
  {
   "cell_type": "code",
   "execution_count": null,
   "metadata": {},
   "outputs": [],
   "source": [
    "#make one list of words for all lyrics for word cloud\n",
    "words =''\n",
    "for lyric in tokens:\n",
    "    for word in lyric:\n",
    "        words= words +\" \" + str(word)\n",
    "\n",
    "\n",
    "fig, ax = plt.subplots(figsize=(15, 5))\n",
    "\n",
    "\n",
    "plt.subplot(1,2,1)\n",
    "wordcloud = WordCloud(width=1800,height=1400).generate(words)\n",
    "plt.imshow(wordcloud)\n",
    "plt.title('Word cloud of 50 years of billboard top 100 lyrics')\n",
    "plt.axis(\"off\")\n",
    "\n",
    "\n",
    "plt.show()"
   ]
  },
  {
   "cell_type": "code",
   "execution_count": null,
   "metadata": {},
   "outputs": [],
   "source": [
    "#count words\n",
    "word_counter={}\n",
    "for lyric in tokens:\n",
    "    for word in lyric:\n",
    "        if word != '':\n",
    "            if word in word_counter:\n",
    "                word_counter[word] +=1\n",
    "            else:\n",
    "                word_counter[word] = 1"
   ]
  },
  {
   "cell_type": "code",
   "execution_count": null,
   "metadata": {},
   "outputs": [],
   "source": [
    "df_freq=pd.DataFrame.from_dict(word_counter, orient=\"index\", columns=['frequencies'])\n",
    "df_freq['words'] = df_freq.index\n",
    "df_freq.sort_values(by=\"frequencies\", ascending=False, inplace=True)\n",
    "df_freq.reset_index(inplace=True, drop=True)"
   ]
  },
  {
   "cell_type": "code",
   "execution_count": null,
   "metadata": {},
   "outputs": [],
   "source": [
    "sns.set_theme(style=\"whitegrid\")\n",
    "sns.barplot(x='words', y='frequencies', data=df_freq[0:20]).set_title(\"Top 20 words\")\n",
    "plt.xticks(rotation=70)\n",
    "plt.figure(figsize=(20,15))\n",
    "plt.tight_layout()\n"
   ]
  },
  {
   "cell_type": "markdown",
   "metadata": {},
   "source": [
    "Surprise! Love is the no. 1 word in all 50 years of pop music, occuring more than 12000 times in all lyrics. "
   ]
  },
  {
   "cell_type": "markdown",
   "metadata": {},
   "source": [
    "### Love, yeah, baby: over time"
   ]
  },
  {
   "cell_type": "markdown",
   "metadata": {},
   "source": [
    "Among the top 20 we find words such as love, yeah, and baby. But how has their popularity evolved over time?"
   ]
  },
  {
   "cell_type": "code",
   "execution_count": null,
   "metadata": {},
   "outputs": [],
   "source": [
    "#by year\n",
    "\n",
    "word_counter_year={}\n",
    "\n",
    "for y in df2.Year:\n",
    "    word_counter={}\n",
    "    df=df2.loc[df2.Year==y]\n",
    "    for lyric in df.Tokens:\n",
    "        for word in lyric:\n",
    "\n",
    "            if word != '':\n",
    "                if word in word_counter:\n",
    "                    word_counter[word] +=1\n",
    "                else:\n",
    "                    word_counter[word] = 1\n",
    "    word_counter_year[y] = word_counter \n",
    "df_freq_y=pd.DataFrame.from_dict(word_counter_year, orient=\"columns\")\n",
    "df_freq_y=df_freq_y.rename_axis('words').reset_index()"
   ]
  },
  {
   "cell_type": "code",
   "execution_count": null,
   "metadata": {},
   "outputs": [],
   "source": [
    "df_freq_y=df_freq_y.set_index(df_freq_y.columns[0])"
   ]
  },
  {
   "cell_type": "code",
   "execution_count": null,
   "metadata": {},
   "outputs": [],
   "source": [
    "#replace frequencies by percentages\n",
    "df_perc_y= (df_freq_y / df_freq_y.sum(axis=0,skipna=True)) * 100"
   ]
  },
  {
   "cell_type": "code",
   "execution_count": null,
   "metadata": {},
   "outputs": [],
   "source": [
    "#make plot of frequency of the word love and yeah by year\n",
    "\n",
    "frequency_love=df_perc_y.loc[df_perc_y.index=='love'].T\n",
    "frequency_yeah=df_perc_y.loc[df_perc_y.index=='yeah'].T\n",
    "frequency_baby=df_perc_y.loc[df_perc_y.index=='baby'].T\n",
    "frequency_y = pd.concat([frequency_love,frequency_yeah, frequency_baby], axis=1)\n"
   ]
  },
  {
   "cell_type": "code",
   "execution_count": null,
   "metadata": {},
   "outputs": [],
   "source": [
    "ax = sns.lineplot(data=frequency_y).set(title='Love, yeah, baby over time', xlabel='year', ylabel='% of occurence')\n"
   ]
  },
  {
   "cell_type": "markdown",
   "metadata": {},
   "source": [
    "The word \"love\" peaked in 1979, where it made up 4 percent of all words in all songs! From there on, \"love\" seems to deteriorate. \"Baby\" also seems to be on a downward trend, while \"yeah\" is pretty steady."
   ]
  },
  {
   "cell_type": "markdown",
   "metadata": {},
   "source": [
    "### Top 10 words by decade\n",
    "\n",
    "Are the top 10 words pretty stable, or have they varied a lot over time?"
   ]
  },
  {
   "cell_type": "code",
   "execution_count": null,
   "metadata": {},
   "outputs": [],
   "source": [
    "decade=list(df2.Year//10*10+5)\n",
    "decade = [2005 if dec==2015 else dec for dec in decade]\n",
    "df2['Decade']=decade\n",
    "decade=list(set(decade))"
   ]
  },
  {
   "cell_type": "code",
   "execution_count": null,
   "metadata": {},
   "outputs": [],
   "source": [
    "#count words by decade\n",
    "word_counter_dec={}\n",
    "\n",
    "for decade in df2.Decade:\n",
    "    word_counter={}\n",
    "    df=df2.loc[df2.Decade==decade]\n",
    "    for lyric in df.Tokens:\n",
    "        for word in lyric:\n",
    "\n",
    "            if word != '':\n",
    "                if word in word_counter:\n",
    "                    word_counter[word] +=1\n",
    "                else:\n",
    "                    word_counter[word] = 1\n",
    "    word_counter_dec[decade] = word_counter       \n"
   ]
  },
  {
   "cell_type": "code",
   "execution_count": null,
   "metadata": {},
   "outputs": [],
   "source": [
    "df_freq_dec=pd.DataFrame.from_dict(word_counter_dec, orient=\"columns\")"
   ]
  },
  {
   "cell_type": "code",
   "execution_count": null,
   "metadata": {},
   "outputs": [],
   "source": [
    "#replace frequencies by percentages\n",
    "df_perc_dec= (df_freq_dec / df_freq_dec.sum(axis=0,skipna=True)) * 100"
   ]
  },
  {
   "cell_type": "code",
   "execution_count": null,
   "metadata": {},
   "outputs": [],
   "source": [
    "df_perc_dec.sort_values(by=1985, ascending=False)"
   ]
  },
  {
   "cell_type": "code",
   "execution_count": null,
   "metadata": {},
   "outputs": [],
   "source": [
    "decade.sort()"
   ]
  },
  {
   "cell_type": "code",
   "execution_count": null,
   "metadata": {},
   "outputs": [],
   "source": [
    "top10_decades={}\n",
    "\n",
    "for dec in decade:\n",
    "    top10=list(df_perc_dec.sort_values(by=dec, ascending=False)[0:10].loc[:,dec].reset_index().iloc[:, 0])\n",
    "    top10_decades[dec]=top10\n",
    "     "
   ]
  },
  {
   "cell_type": "markdown",
   "metadata": {},
   "source": [
    "These are the top10 words per decade..."
   ]
  },
  {
   "cell_type": "code",
   "execution_count": null,
   "metadata": {},
   "outputs": [],
   "source": [
    "for items in top10_decades.items():\n",
    "    print(items)"
   ]
  },
  {
   "cell_type": "code",
   "execution_count": null,
   "metadata": {},
   "outputs": [],
   "source": [
    "list_all=[]\n",
    "for key, value in top10_decades.items():\n",
    "    list_all=list_all + value\n",
    "list_all=set(list_all)"
   ]
  },
  {
   "cell_type": "markdown",
   "metadata": {},
   "source": [
    "Turns out the top 10 words of 5 decades consist only in 15 words. So there is little variation over time. Here they are:"
   ]
  },
  {
   "cell_type": "code",
   "execution_count": null,
   "metadata": {},
   "outputs": [],
   "source": [
    "print(list_all)"
   ]
  },
  {
   "cell_type": "code",
   "execution_count": null,
   "metadata": {},
   "outputs": [],
   "source": [
    "df_perc_dec=df_perc_dec.rename_axis('words').reset_index()"
   ]
  },
  {
   "cell_type": "code",
   "execution_count": null,
   "metadata": {},
   "outputs": [],
   "source": [
    "#get percentages for words that were top 10 in 1965-1975\n",
    "\n",
    "freq_top={}\n",
    "for word in top10_decades[1965]:\n",
    "    freq=df_perc_dec.loc[df_perc_dec['words']==word]\n",
    "    freq=freq.iloc[0,1:6]\n",
    "    freq_top[word]=list(freq)\n",
    "freq_top=pd.DataFrame.from_dict(freq_top, orient=\"index\")\n",
    "freq_top.columns=['1965-1974', '1975-1984', '1985-1995', '1995-2004', '2005-2015']\n",
    "freq_top.sort_values(by='1965-1974', ascending=False, inplace=True)\n",
    "freq_top.index.name = 'words'\n"
   ]
  },
  {
   "cell_type": "code",
   "execution_count": null,
   "metadata": {},
   "outputs": [],
   "source": [
    "sns.set_style(\"ticks\")\n",
    "sns.set_context(\"notebook\", font_scale=1.2)\n",
    "plt.figure(figsize=(10,6))\n",
    "freq_top.T.plot.bar(stacked=True, ax=plt.gca())\n",
    "handles, labels = plt.gca().get_legend_handles_labels()\n",
    "plt.legend(handles[::-1],labels[::-1], loc=1,   bbox_to_anchor=(1.2,0.9))\n",
    "plt.ylabel(\"% in all billboard 100 songs\")\n",
    "sns.despine()"
   ]
  }
 ],
 "metadata": {
  "kernelspec": {
   "display_name": "Python 3",
   "language": "python",
   "name": "python3"
  },
  "language_info": {
   "codemirror_mode": {
    "name": "ipython",
    "version": 3
   },
   "file_extension": ".py",
   "mimetype": "text/x-python",
   "name": "python",
   "nbconvert_exporter": "python",
   "pygments_lexer": "ipython3",
   "version": "3.8.5"
  }
 },
 "nbformat": 4,
 "nbformat_minor": 4
}
