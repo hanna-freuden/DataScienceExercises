{
 "cells": [
  {
   "cell_type": "markdown",
   "metadata": {},
   "source": [
    "# Lyrics extraction via Genius API\n",
    "Based on instruction found here:https://towardsdatascience.com/song-lyrics-genius-api-dcc2819c29"
   ]
  },
  {
   "cell_type": "code",
   "execution_count": 2,
   "metadata": {},
   "outputs": [
    {
     "name": "stdout",
     "output_type": "stream",
     "text": [
      "Collecting git+https://github.com/johnwmillr/LyricsGenius.git\n",
      "  Cloning https://github.com/johnwmillr/LyricsGenius.git to c:\\users\\freudenreich\\appdata\\local\\temp\\pip-req-build-glhvw9au\n",
      "Requirement already satisfied: beautifulsoup4>=4.6.0 in c:\\users\\freudenreich\\anaconda3\\lib\\site-packages (from lyricsgenius==3.0.1) (4.9.3)\n",
      "Requirement already satisfied: requests>=2.20.0 in c:\\users\\freudenreich\\anaconda3\\lib\\site-packages (from lyricsgenius==3.0.1) (2.24.0)\n",
      "Requirement already satisfied: soupsieve>1.2; python_version >= \"3.0\" in c:\\users\\freudenreich\\anaconda3\\lib\\site-packages (from beautifulsoup4>=4.6.0->lyricsgenius==3.0.1) (2.0.1)\n",
      "Requirement already satisfied: urllib3!=1.25.0,!=1.25.1,<1.26,>=1.21.1 in c:\\users\\freudenreich\\anaconda3\\lib\\site-packages (from requests>=2.20.0->lyricsgenius==3.0.1) (1.25.11)\n",
      "Requirement already satisfied: certifi>=2017.4.17 in c:\\users\\freudenreich\\anaconda3\\lib\\site-packages (from requests>=2.20.0->lyricsgenius==3.0.1) (2020.6.20)\n",
      "Requirement already satisfied: chardet<4,>=3.0.2 in c:\\users\\freudenreich\\anaconda3\\lib\\site-packages (from requests>=2.20.0->lyricsgenius==3.0.1) (3.0.4)\n",
      "Requirement already satisfied: idna<3,>=2.5 in c:\\users\\freudenreich\\anaconda3\\lib\\site-packages (from requests>=2.20.0->lyricsgenius==3.0.1) (2.10)\n",
      "Building wheels for collected packages: lyricsgenius\n",
      "  Building wheel for lyricsgenius (setup.py): started\n",
      "  Building wheel for lyricsgenius (setup.py): finished with status 'done'\n",
      "  Created wheel for lyricsgenius: filename=lyricsgenius-3.0.1-py3-none-any.whl size=45002 sha256=5749b100e83c671ed5172d79566019ed7b1c7d03de7baa22b250e4d46585ca87\n",
      "  Stored in directory: C:\\Users\\freudenreich\\AppData\\Local\\Temp\\pip-ephem-wheel-cache-ubbr5qos\\wheels\\64\\c0\\2c\\8e83de1c83814299822723e7471f38a2dfbd750de606c7ccbd\n",
      "Successfully built lyricsgenius\n",
      "Installing collected packages: lyricsgenius\n",
      "Successfully installed lyricsgenius-3.0.1\n"
     ]
    }
   ],
   "source": [
    "#install and load Genius API package\n",
    "#!pip install git+https://github.com/johnwmillr/LyricsGenius.git\n",
    "import lyricsgenius as lg"
   ]
  },
  {
   "cell_type": "code",
   "execution_count": 3,
   "metadata": {},
   "outputs": [],
   "source": [
    "#path to save data\n",
    "file = open(\"music_.txt\", \"w\")"
   ]
  },
  {
   "cell_type": "code",
   "execution_count": 6,
   "metadata": {},
   "outputs": [],
   "source": [
    "#Filtering: ignore lyrics that aren’t from official songs and disregard live performances and remixes.\n",
    "#It’s also a good idea to set remove_section_headers to True assuming we want our dataset to focus solely on spoken song lyrics\n",
    "#and to exclude song metadata\n",
    "\n",
    "genius = lg.Genius('4AYlCrOSPS_1lJIjM5KMfoxdkEVUQogO96VyH6AFG2UoraK9fQmRjEbMyxEMwFtU', skip_non_songs=True, excluded_terms=[\"(Remix)\", \"(Live)\"], remove_section_headers=True)"
   ]
  },
  {
   "cell_type": "code",
   "execution_count": 7,
   "metadata": {},
   "outputs": [],
   "source": [
    "#function get_lyrics() that takes a list of artist names and k number of songs we want to grab for each artist as parameters. \n",
    "#The function will print the name of each song collected and the total number of songs successfully grabbed for each artist \n",
    "#and then write the lyrics to our .txt file.\n",
    "def get_lyrics(arr, k):\n",
    "    c = 0\n",
    "    for name in arr:\n",
    "        try:\n",
    "            songs = (genius.search_artist(name, max_songs=k, sort='popularity')).songs\n",
    "            s = [song.lyrics for song in songs]\n",
    "            file.write(\"\\n \\n   <|endoftext|>   \\n \\n\".join(s))\n",
    "            c += 1\n",
    "            print(f\"Songs grabbed:{len(s)}\")\n",
    "        except:\n",
    "            print(f\"some exception at {name}: {c}\")"
   ]
  },
  {
   "cell_type": "code",
   "execution_count": 9,
   "metadata": {},
   "outputs": [
    {
     "name": "stdout",
     "output_type": "stream",
     "text": [
      "Searching for songs by Lady Gaga...\n",
      "\n",
      "Song 1: \"Poker Face\"\n",
      "Song 2: \"Bad Romance\"\n",
      "Song 3: \"Do What U Want\"\n",
      "\n",
      "Reached user-specified song limit (3).\n",
      "Done. Found 3 songs.\n",
      "Songs grabbed:3\n"
     ]
    }
   ],
   "source": [
    "#select artist\n",
    "artists = ['Lady Gaga']\n",
    "get_lyrics(artists, 3)"
   ]
  },
  {
   "cell_type": "code",
   "execution_count": null,
   "metadata": {},
   "outputs": [],
   "source": [
    "##I NEED A FULL LIST OF ARTISTS (AND SONGS?) TO EXTRACT THE RIGHT LYRICS"
   ]
  }
 ],
 "metadata": {
  "kernelspec": {
   "display_name": "Python 3",
   "language": "python",
   "name": "python3"
  },
  "language_info": {
   "codemirror_mode": {
    "name": "ipython",
    "version": 3
   },
   "file_extension": ".py",
   "mimetype": "text/x-python",
   "name": "python",
   "nbconvert_exporter": "python",
   "pygments_lexer": "ipython3",
   "version": "3.8.5"
  }
 },
 "nbformat": 4,
 "nbformat_minor": 4
}
