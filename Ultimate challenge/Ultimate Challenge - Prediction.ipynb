{
 "cells": [
  {
   "cell_type": "markdown",
   "metadata": {},
   "source": [
    "# Ultimate challenge - Prediction exercise"
   ]
  },
  {
   "cell_type": "markdown",
   "metadata": {},
   "source": [
    "\n",
    "Ultimate is interested in predicting rider retention. To help explore this question, we have\n",
    "provided a sample dataset of a cohort of users who signed up for an Ultimate account in\n",
    "January 2014. The data was pulled several months later; we consider a user retained if they\n",
    "were “active” (i.e. took a trip) in the preceding 30 days.\n",
    "We would like you to use this data set to help understand what factors are the best predictors\n",
    "for retention, and offer suggestions to operationalize those insights to help Ultimate.\n",
    "The data is in the attached file ultimate_data_challenge.json. See below for a detailed\n",
    "description of the dataset. Please include any code you wrote for the analysis and delete the\n",
    "dataset when you have finished with the challenge.\n",
    "1. Perform any cleaning, exploratory analysis, and/or visualizations to use the provided\n",
    "data for this analysis (a few sentences/plots describing your approach will suffice). What\n",
    "fraction of the observed users were retained?\n",
    "2. Build a predictive model to help Ultimate determine whether or not a user will be active in\n",
    "their 6th month on the system. Discuss why you chose your approach, what alternatives\n",
    "you considered, and any concerns you have. How valid is your model? Include any key\n",
    "indicators of model performance.\n",
    "3. Briefly discuss how Ultimate might leverage the insights gained from the model to\n",
    "improve its long term rider retention (again, a few sentences will suffice)."
   ]
  },
  {
   "cell_type": "code",
   "execution_count": 130,
   "metadata": {},
   "outputs": [],
   "source": [
    "import json\n",
    "import pandas as pd\n",
    "import numpy as np\n",
    "import matplotlib.pyplot as plt\n",
    "import seaborn as sns\n",
    "from sklearn.model_selection import train_test_split\n",
    "from sklearn.metrics import roc_curve\n",
    "from sklearn.metrics import roc_auc_score\n",
    "from sklearn.model_selection import GridSearchCV\n",
    "from sklearn.metrics import accuracy_score\n",
    "from sklearn.metrics import roc_curve\n",
    "from sklearn.linear_model import LogisticRegression"
   ]
  },
  {
   "cell_type": "code",
   "execution_count": 131,
   "metadata": {},
   "outputs": [],
   "source": [
    "# Opening JSON file\n",
    "f = open('ultimate_data_challenge.json')\n",
    "data = json.load(f)"
   ]
  },
  {
   "cell_type": "code",
   "execution_count": 132,
   "metadata": {},
   "outputs": [
    {
     "data": {
      "text/html": [
       "<div>\n",
       "<style scoped>\n",
       "    .dataframe tbody tr th:only-of-type {\n",
       "        vertical-align: middle;\n",
       "    }\n",
       "\n",
       "    .dataframe tbody tr th {\n",
       "        vertical-align: top;\n",
       "    }\n",
       "\n",
       "    .dataframe thead th {\n",
       "        text-align: right;\n",
       "    }\n",
       "</style>\n",
       "<table border=\"1\" class=\"dataframe\">\n",
       "  <thead>\n",
       "    <tr style=\"text-align: right;\">\n",
       "      <th></th>\n",
       "      <th>city</th>\n",
       "      <th>trips_in_first_30_days</th>\n",
       "      <th>signup_date</th>\n",
       "      <th>avg_rating_of_driver</th>\n",
       "      <th>avg_surge</th>\n",
       "      <th>last_trip_date</th>\n",
       "      <th>phone</th>\n",
       "      <th>surge_pct</th>\n",
       "      <th>ultimate_black_user</th>\n",
       "      <th>weekday_pct</th>\n",
       "      <th>avg_dist</th>\n",
       "      <th>avg_rating_by_driver</th>\n",
       "    </tr>\n",
       "  </thead>\n",
       "  <tbody>\n",
       "    <tr>\n",
       "      <th>0</th>\n",
       "      <td>King's Landing</td>\n",
       "      <td>4</td>\n",
       "      <td>2014-01-25</td>\n",
       "      <td>4.7</td>\n",
       "      <td>1.10</td>\n",
       "      <td>2014-06-17</td>\n",
       "      <td>iPhone</td>\n",
       "      <td>15.4</td>\n",
       "      <td>True</td>\n",
       "      <td>46.2</td>\n",
       "      <td>3.67</td>\n",
       "      <td>5.0</td>\n",
       "    </tr>\n",
       "    <tr>\n",
       "      <th>1</th>\n",
       "      <td>Astapor</td>\n",
       "      <td>0</td>\n",
       "      <td>2014-01-29</td>\n",
       "      <td>5.0</td>\n",
       "      <td>1.00</td>\n",
       "      <td>2014-05-05</td>\n",
       "      <td>Android</td>\n",
       "      <td>0.0</td>\n",
       "      <td>False</td>\n",
       "      <td>50.0</td>\n",
       "      <td>8.26</td>\n",
       "      <td>5.0</td>\n",
       "    </tr>\n",
       "    <tr>\n",
       "      <th>2</th>\n",
       "      <td>Astapor</td>\n",
       "      <td>3</td>\n",
       "      <td>2014-01-06</td>\n",
       "      <td>4.3</td>\n",
       "      <td>1.00</td>\n",
       "      <td>2014-01-07</td>\n",
       "      <td>iPhone</td>\n",
       "      <td>0.0</td>\n",
       "      <td>False</td>\n",
       "      <td>100.0</td>\n",
       "      <td>0.77</td>\n",
       "      <td>5.0</td>\n",
       "    </tr>\n",
       "    <tr>\n",
       "      <th>3</th>\n",
       "      <td>King's Landing</td>\n",
       "      <td>9</td>\n",
       "      <td>2014-01-10</td>\n",
       "      <td>4.6</td>\n",
       "      <td>1.14</td>\n",
       "      <td>2014-06-29</td>\n",
       "      <td>iPhone</td>\n",
       "      <td>20.0</td>\n",
       "      <td>True</td>\n",
       "      <td>80.0</td>\n",
       "      <td>2.36</td>\n",
       "      <td>4.9</td>\n",
       "    </tr>\n",
       "    <tr>\n",
       "      <th>4</th>\n",
       "      <td>Winterfell</td>\n",
       "      <td>14</td>\n",
       "      <td>2014-01-27</td>\n",
       "      <td>4.4</td>\n",
       "      <td>1.19</td>\n",
       "      <td>2014-03-15</td>\n",
       "      <td>Android</td>\n",
       "      <td>11.8</td>\n",
       "      <td>False</td>\n",
       "      <td>82.4</td>\n",
       "      <td>3.13</td>\n",
       "      <td>4.9</td>\n",
       "    </tr>\n",
       "  </tbody>\n",
       "</table>\n",
       "</div>"
      ],
      "text/plain": [
       "             city  trips_in_first_30_days signup_date  avg_rating_of_driver  \\\n",
       "0  King's Landing                       4  2014-01-25                   4.7   \n",
       "1         Astapor                       0  2014-01-29                   5.0   \n",
       "2         Astapor                       3  2014-01-06                   4.3   \n",
       "3  King's Landing                       9  2014-01-10                   4.6   \n",
       "4      Winterfell                      14  2014-01-27                   4.4   \n",
       "\n",
       "   avg_surge last_trip_date    phone  surge_pct  ultimate_black_user  \\\n",
       "0       1.10     2014-06-17   iPhone       15.4                 True   \n",
       "1       1.00     2014-05-05  Android        0.0                False   \n",
       "2       1.00     2014-01-07   iPhone        0.0                False   \n",
       "3       1.14     2014-06-29   iPhone       20.0                 True   \n",
       "4       1.19     2014-03-15  Android       11.8                False   \n",
       "\n",
       "   weekday_pct  avg_dist  avg_rating_by_driver  \n",
       "0         46.2      3.67                   5.0  \n",
       "1         50.0      8.26                   5.0  \n",
       "2        100.0      0.77                   5.0  \n",
       "3         80.0      2.36                   4.9  \n",
       "4         82.4      3.13                   4.9  "
      ]
     },
     "execution_count": 132,
     "metadata": {},
     "output_type": "execute_result"
    }
   ],
   "source": [
    "df_raw=pd.DataFrame.from_dict(data)\n",
    "df_raw.head()"
   ]
  },
  {
   "cell_type": "code",
   "execution_count": 133,
   "metadata": {},
   "outputs": [
    {
     "data": {
      "text/html": [
       "<div>\n",
       "<style scoped>\n",
       "    .dataframe tbody tr th:only-of-type {\n",
       "        vertical-align: middle;\n",
       "    }\n",
       "\n",
       "    .dataframe tbody tr th {\n",
       "        vertical-align: top;\n",
       "    }\n",
       "\n",
       "    .dataframe thead th {\n",
       "        text-align: right;\n",
       "    }\n",
       "</style>\n",
       "<table border=\"1\" class=\"dataframe\">\n",
       "  <thead>\n",
       "    <tr style=\"text-align: right;\">\n",
       "      <th></th>\n",
       "      <th>count</th>\n",
       "      <th>mean</th>\n",
       "      <th>std</th>\n",
       "      <th>min</th>\n",
       "      <th>25%</th>\n",
       "      <th>50%</th>\n",
       "      <th>75%</th>\n",
       "      <th>max</th>\n",
       "    </tr>\n",
       "  </thead>\n",
       "  <tbody>\n",
       "    <tr>\n",
       "      <th>trips_in_first_30_days</th>\n",
       "      <td>50000.0</td>\n",
       "      <td>2.278200</td>\n",
       "      <td>3.792684</td>\n",
       "      <td>0.0</td>\n",
       "      <td>0.00</td>\n",
       "      <td>1.00</td>\n",
       "      <td>3.00</td>\n",
       "      <td>125.00</td>\n",
       "    </tr>\n",
       "    <tr>\n",
       "      <th>avg_rating_of_driver</th>\n",
       "      <td>41878.0</td>\n",
       "      <td>4.601559</td>\n",
       "      <td>0.617338</td>\n",
       "      <td>1.0</td>\n",
       "      <td>4.30</td>\n",
       "      <td>4.90</td>\n",
       "      <td>5.00</td>\n",
       "      <td>5.00</td>\n",
       "    </tr>\n",
       "    <tr>\n",
       "      <th>avg_surge</th>\n",
       "      <td>50000.0</td>\n",
       "      <td>1.074764</td>\n",
       "      <td>0.222336</td>\n",
       "      <td>1.0</td>\n",
       "      <td>1.00</td>\n",
       "      <td>1.00</td>\n",
       "      <td>1.05</td>\n",
       "      <td>8.00</td>\n",
       "    </tr>\n",
       "    <tr>\n",
       "      <th>surge_pct</th>\n",
       "      <td>50000.0</td>\n",
       "      <td>8.849536</td>\n",
       "      <td>19.958811</td>\n",
       "      <td>0.0</td>\n",
       "      <td>0.00</td>\n",
       "      <td>0.00</td>\n",
       "      <td>8.60</td>\n",
       "      <td>100.00</td>\n",
       "    </tr>\n",
       "    <tr>\n",
       "      <th>weekday_pct</th>\n",
       "      <td>50000.0</td>\n",
       "      <td>60.926084</td>\n",
       "      <td>37.081503</td>\n",
       "      <td>0.0</td>\n",
       "      <td>33.30</td>\n",
       "      <td>66.70</td>\n",
       "      <td>100.00</td>\n",
       "      <td>100.00</td>\n",
       "    </tr>\n",
       "    <tr>\n",
       "      <th>avg_dist</th>\n",
       "      <td>50000.0</td>\n",
       "      <td>5.796827</td>\n",
       "      <td>5.707357</td>\n",
       "      <td>0.0</td>\n",
       "      <td>2.42</td>\n",
       "      <td>3.88</td>\n",
       "      <td>6.94</td>\n",
       "      <td>160.96</td>\n",
       "    </tr>\n",
       "    <tr>\n",
       "      <th>avg_rating_by_driver</th>\n",
       "      <td>49799.0</td>\n",
       "      <td>4.778158</td>\n",
       "      <td>0.446652</td>\n",
       "      <td>1.0</td>\n",
       "      <td>4.70</td>\n",
       "      <td>5.00</td>\n",
       "      <td>5.00</td>\n",
       "      <td>5.00</td>\n",
       "    </tr>\n",
       "  </tbody>\n",
       "</table>\n",
       "</div>"
      ],
      "text/plain": [
       "                          count       mean        std  min    25%    50%  \\\n",
       "trips_in_first_30_days  50000.0   2.278200   3.792684  0.0   0.00   1.00   \n",
       "avg_rating_of_driver    41878.0   4.601559   0.617338  1.0   4.30   4.90   \n",
       "avg_surge               50000.0   1.074764   0.222336  1.0   1.00   1.00   \n",
       "surge_pct               50000.0   8.849536  19.958811  0.0   0.00   0.00   \n",
       "weekday_pct             50000.0  60.926084  37.081503  0.0  33.30  66.70   \n",
       "avg_dist                50000.0   5.796827   5.707357  0.0   2.42   3.88   \n",
       "avg_rating_by_driver    49799.0   4.778158   0.446652  1.0   4.70   5.00   \n",
       "\n",
       "                           75%     max  \n",
       "trips_in_first_30_days    3.00  125.00  \n",
       "avg_rating_of_driver      5.00    5.00  \n",
       "avg_surge                 1.05    8.00  \n",
       "surge_pct                 8.60  100.00  \n",
       "weekday_pct             100.00  100.00  \n",
       "avg_dist                  6.94  160.96  \n",
       "avg_rating_by_driver      5.00    5.00  "
      ]
     },
     "execution_count": 133,
     "metadata": {},
     "output_type": "execute_result"
    }
   ],
   "source": [
    "df_raw.describe().T"
   ]
  },
  {
   "cell_type": "code",
   "execution_count": 134,
   "metadata": {},
   "outputs": [
    {
     "name": "stdout",
     "output_type": "stream",
     "text": [
      "<class 'pandas.core.frame.DataFrame'>\n",
      "RangeIndex: 50000 entries, 0 to 49999\n",
      "Data columns (total 12 columns):\n",
      " #   Column                  Non-Null Count  Dtype  \n",
      "---  ------                  --------------  -----  \n",
      " 0   city                    50000 non-null  object \n",
      " 1   trips_in_first_30_days  50000 non-null  int64  \n",
      " 2   signup_date             50000 non-null  object \n",
      " 3   avg_rating_of_driver    41878 non-null  float64\n",
      " 4   avg_surge               50000 non-null  float64\n",
      " 5   last_trip_date          50000 non-null  object \n",
      " 6   phone                   49604 non-null  object \n",
      " 7   surge_pct               50000 non-null  float64\n",
      " 8   ultimate_black_user     50000 non-null  bool   \n",
      " 9   weekday_pct             50000 non-null  float64\n",
      " 10  avg_dist                50000 non-null  float64\n",
      " 11  avg_rating_by_driver    49799 non-null  float64\n",
      "dtypes: bool(1), float64(6), int64(1), object(4)\n",
      "memory usage: 4.2+ MB\n"
     ]
    }
   ],
   "source": [
    "df_raw.info()"
   ]
  },
  {
   "cell_type": "code",
   "execution_count": 135,
   "metadata": {},
   "outputs": [],
   "source": [
    "#transform string vars to dummies\n",
    "phone=pd.get_dummies(df_raw.phone)\n",
    "city=pd.get_dummies(df_raw.city)"
   ]
  },
  {
   "cell_type": "code",
   "execution_count": 136,
   "metadata": {},
   "outputs": [],
   "source": [
    "df_raw.drop('phone', axis=1, inplace=True)\n",
    "df_raw=df_raw.join(phone)\n",
    "\n",
    "df_raw.drop('city', axis=1, inplace=True)\n",
    "df_raw=df_raw.join(city)"
   ]
  },
  {
   "cell_type": "markdown",
   "metadata": {},
   "source": [
    "Missing information for driver ratings.Impute with median."
   ]
  },
  {
   "cell_type": "code",
   "execution_count": 137,
   "metadata": {},
   "outputs": [],
   "source": [
    "from sklearn.impute import SimpleImputer\n",
    "mv=df_raw[['avg_rating_by_driver', 'avg_rating_of_driver', 'Android', 'iPhone']]\n",
    "imp = SimpleImputer(missing_values=np.nan, strategy='median')\n",
    "imp.fit(mv)\n",
    "SimpleImputer()\n",
    "mv=pd.DataFrame(imp.transform(mv))\n"
   ]
  },
  {
   "cell_type": "code",
   "execution_count": 138,
   "metadata": {},
   "outputs": [],
   "source": [
    "df=df_raw.drop(['avg_rating_by_driver', 'avg_rating_of_driver','Android', 'iPhone'], axis=1)\n",
    "df['avg_rating_by_driver']=mv[0]\n",
    "df['avg_rating_of_driver']=mv[1]\n",
    "df['Android']=mv[2]\n",
    "df['iPhone']=mv[3]"
   ]
  },
  {
   "cell_type": "code",
   "execution_count": 140,
   "metadata": {},
   "outputs": [
    {
     "data": {
      "text/plain": [
       "pandas._libs.tslibs.timestamps.Timestamp"
      ]
     },
     "execution_count": 140,
     "metadata": {},
     "output_type": "execute_result"
    }
   ],
   "source": [
    "# make y = 1 if client was active\n",
    "#boolean variable whether client was active in last 30 days\n",
    "df['last_trip_date']=pd.to_datetime(df['last_trip_date'])\n",
    "df['signup_date']=pd.to_datetime(df['signup_date'])\n",
    "type(df.last_trip_date[1])"
   ]
  },
  {
   "cell_type": "code",
   "execution_count": 141,
   "metadata": {},
   "outputs": [
    {
     "name": "stdout",
     "output_type": "stream",
     "text": [
      "2014-07-01 00:00:00 2014-06-01 00:00:00\n"
     ]
    }
   ],
   "source": [
    "#how to define last 30 days? we do not know when the data were generated.\n",
    "#I assume max(last_trip_date) is the baseline date for counting 30 days backwards\n",
    "import datetime\n",
    "days = datetime.timedelta(30)\n",
    "ref_date=max(df.last_trip_date)-days\n",
    "print(max(df.last_trip_date),ref_date)"
   ]
  },
  {
   "cell_type": "code",
   "execution_count": 142,
   "metadata": {},
   "outputs": [],
   "source": [
    "#y=1 if client took trip in last 30 d, 0 otherwise\n",
    "y=pd.Series(df.last_trip_date>ref_date)"
   ]
  },
  {
   "cell_type": "code",
   "execution_count": 143,
   "metadata": {},
   "outputs": [],
   "source": [
    "df.drop('last_trip_date', axis=1, inplace=True)"
   ]
  },
  {
   "cell_type": "code",
   "execution_count": 144,
   "metadata": {},
   "outputs": [
    {
     "name": "stdout",
     "output_type": "stream",
     "text": [
      "The share of retained clients is  0.3662\n"
     ]
    }
   ],
   "source": [
    "print(\"The share of retained clients is \", np.mean(y))"
   ]
  },
  {
   "cell_type": "code",
   "execution_count": 153,
   "metadata": {},
   "outputs": [],
   "source": [
    "df['signup_date']=df['signup_date'].map(datetime.datetime.toordinal)"
   ]
  },
  {
   "cell_type": "code",
   "execution_count": 154,
   "metadata": {},
   "outputs": [
    {
     "name": "stdout",
     "output_type": "stream",
     "text": [
      "<class 'pandas.core.frame.DataFrame'>\n",
      "RangeIndex: 50000 entries, 0 to 49999\n",
      "Data columns (total 14 columns):\n",
      " #   Column                  Non-Null Count  Dtype  \n",
      "---  ------                  --------------  -----  \n",
      " 0   trips_in_first_30_days  50000 non-null  int64  \n",
      " 1   signup_date             50000 non-null  int64  \n",
      " 2   avg_surge               50000 non-null  float64\n",
      " 3   surge_pct               50000 non-null  float64\n",
      " 4   ultimate_black_user     50000 non-null  bool   \n",
      " 5   weekday_pct             50000 non-null  float64\n",
      " 6   avg_dist                50000 non-null  float64\n",
      " 7   Astapor                 50000 non-null  uint8  \n",
      " 8   King's Landing          50000 non-null  uint8  \n",
      " 9   Winterfell              50000 non-null  uint8  \n",
      " 10  avg_rating_by_driver    50000 non-null  float64\n",
      " 11  avg_rating_of_driver    50000 non-null  float64\n",
      " 12  Android                 50000 non-null  float64\n",
      " 13  iPhone                  50000 non-null  float64\n",
      "dtypes: bool(1), float64(8), int64(2), uint8(3)\n",
      "memory usage: 4.0 MB\n"
     ]
    }
   ],
   "source": [
    "df.info()"
   ]
  },
  {
   "cell_type": "markdown",
   "metadata": {},
   "source": [
    "## Modelling"
   ]
  },
  {
   "cell_type": "markdown",
   "metadata": {},
   "source": [
    "### Simple logistic regression"
   ]
  },
  {
   "cell_type": "code",
   "execution_count": 155,
   "metadata": {},
   "outputs": [],
   "source": [
    "def logistic_cv(X_train, X_test, y_train, y_test):\n",
    "    C = [0.00001,0.0001, 0.001, 0.01, 0.1,1,10,100,1000, 10000]\n",
    "    penalty = ['l2']\n",
    "    parameters = dict(C=C, penalty=penalty)\n",
    "    logistic=LogisticRegression(class_weight='balanced', max_iter=500)\n",
    "    gsl=GridSearchCV(logistic, parameters, cv=3, n_jobs=-1, scoring=\"roc_auc\")\n",
    "    gsl.fit(X_train, y_train)\n",
    "    return gsl\n"
   ]
  },
  {
   "cell_type": "code",
   "execution_count": 156,
   "metadata": {},
   "outputs": [],
   "source": [
    "#fit tuned model\n",
    "def fit_tuned_lr_model(model):    \n",
    "    logisticCV=LogisticRegression(class_weight='balanced',C=model.best_params_['C'], penalty=model.best_params_['penalty'], max_iter=1000)\n",
    "    logisticCV.fit(X_train, y_train)\n",
    "\n",
    "    #return predicted probabilities\n",
    "    lr_probs = logisticCV.predict_proba(X_test)\n",
    "\n",
    "    # keep probabilities for the positive outcome only\n",
    "    lr_probs = lr_probs[:, 1]\n",
    "    roc_auc=roc_auc_score(y_test, lr_probs)\n",
    "    fpr, tpr, _ = roc_curve(y_test, lr_probs)\n",
    "    print(\"tuned hyperparameters :(best parameters) \", model.best_params_)\n",
    "    print(\"ROC AUC :\", model.best_score_)\n",
    "    print(\"Fitted tuned logit  model \", roc_auc)\n",
    "    return logisticCV, roc_auc, fpr, tpr"
   ]
  },
  {
   "cell_type": "code",
   "execution_count": 157,
   "metadata": {},
   "outputs": [
    {
     "name": "stdout",
     "output_type": "stream",
     "text": [
      "tuned hyperparameters :(best parameters)  {'C': 1e-05, 'penalty': 'l2'}\n",
      "ROC AUC : 0.49320154230437746\n",
      "Fitted tuned logit  model  0.49465232559163275\n"
     ]
    }
   ],
   "source": [
    "#Logistic Classifier\n",
    "X=df\n",
    "X_train, X_test, y_train, y_test = train_test_split(X,y, test_size=0.33, random_state=42)\n",
    "lr=logistic_cv(X_train, X_test, y_train, y_test)\n",
    "#fit tuned model\n",
    "lr_fit_wv=fit_tuned_lr_model(lr)\n"
   ]
  },
  {
   "cell_type": "markdown",
   "metadata": {},
   "source": [
    "## Random forest model"
   ]
  },
  {
   "cell_type": "code",
   "execution_count": 158,
   "metadata": {},
   "outputs": [],
   "source": [
    "#random forest model\n",
    "#define parameter grid for randomized search with forest model\n",
    "from sklearn.ensemble import RandomForestRegressor\n",
    "from sklearn.ensemble import RandomForestClassifier\n",
    "from sklearn.model_selection import RandomizedSearchCV\n",
    "\n",
    "#n_estimators\n",
    "n_estimators = [250,300, 350]\n",
    "# Number of features to consider at every split\n",
    "max_features = ['auto', 'sqrt']\n",
    "# Maximum number of levels in tree\n",
    "max_depth = [int(x) for x in np.linspace(10, 110, num = 11)]\n",
    "max_depth.append(None)\n",
    "# Minimum number of samples required to split a node\n",
    "min_samples_split = [2, 5, 10]\n",
    "# Minimum number of samples required at each leaf node\n",
    "min_samples_leaf = [1, 2, 4]\n",
    "# Method of selecting samples for training each tree\n",
    "bootstrap = [True, False]\n",
    "\n",
    "\n",
    "# Create the random grid\n",
    "random_grid = {'max_features': max_features,\n",
    "               'max_depth': max_depth,\n",
    "               'min_samples_split': min_samples_split,\n",
    "               'min_samples_leaf': min_samples_leaf,\n",
    "               'bootstrap': bootstrap,\n",
    "               'n_estimators':n_estimators}\n",
    "def rf_rs(X_train, X_test, y_train, y_test):\n",
    "\n",
    "    #Instantiate the classifier\n",
    "    rf=RandomForestClassifier(n_jobs=-1, class_weight='balanced')\n",
    "    rs=RandomizedSearchCV(rf,random_grid, n_iter = 100, cv = 5, verbose=2, random_state=42, n_jobs = -1, scoring='roc_auc')\n",
    "    rs.fit(X_train, y_train)\n",
    "    return rs"
   ]
  },
  {
   "cell_type": "code",
   "execution_count": 159,
   "metadata": {},
   "outputs": [],
   "source": [
    "def fit_tuned_rf_model(model):\n",
    "    print(\"tuned hyperparameters :(best parameters) \", model.best_params_)\n",
    "    print(\"ROC AUC :\", model.best_score_)\n",
    "\n",
    "    modelCV=RandomForestClassifier(class_weight='balanced',max_features=model.best_params_['max_features'], max_depth=model.best_params_['max_depth'], min_samples_split=model.best_params_['min_samples_split'], min_samples_leaf=model.best_params_['min_samples_leaf'], bootstrap=model.best_params_['bootstrap'],n_estimators=model.best_params_['n_estimators'])\n",
    "    modelCV.fit(X_train, y_train)\n",
    "\n",
    "    #return predicted probabilities\n",
    "    probs = modelCV.predict_proba(X_test)\n",
    "        # keep probabilities for the positive outcome only\n",
    "    probs = probs[:, 1]\n",
    "    roc_auc=roc_auc_score(y_test, probs)\n",
    "    fpr, tpr, _ = roc_curve(y_test, probs)\n",
    "    print(\"Fitted tuned random forest model \", roc_auc)\n",
    "    return modelCV, roc_auc, fpr, tpr"
   ]
  },
  {
   "cell_type": "code",
   "execution_count": 161,
   "metadata": {},
   "outputs": [
    {
     "name": "stdout",
     "output_type": "stream",
     "text": [
      "Fitting 5 folds for each of 100 candidates, totalling 500 fits\n"
     ]
    },
    {
     "name": "stderr",
     "output_type": "stream",
     "text": [
      "[Parallel(n_jobs=-1)]: Using backend LokyBackend with 4 concurrent workers.\n",
      "[Parallel(n_jobs=-1)]: Done  33 tasks      | elapsed:  2.6min\n",
      "[Parallel(n_jobs=-1)]: Done 154 tasks      | elapsed: 12.7min\n",
      "[Parallel(n_jobs=-1)]: Done 357 tasks      | elapsed: 30.4min\n",
      "[Parallel(n_jobs=-1)]: Done 500 out of 500 | elapsed: 42.7min finished\n"
     ]
    },
    {
     "name": "stdout",
     "output_type": "stream",
     "text": [
      "tuned hyperparameters :(best parameters)  {'n_estimators': 350, 'min_samples_split': 10, 'min_samples_leaf': 2, 'max_features': 'sqrt', 'max_depth': 10, 'bootstrap': True}\n",
      "ROC AUC : 0.8544778655041065\n",
      "Fitted tuned random forest model  0.8515798841915051\n"
     ]
    }
   ],
   "source": [
    "#Random forest classifier \n",
    "X_train, X_test, y_train, y_test = train_test_split(X,y, test_size=0.33, random_state=42)\n",
    "rf=rf_rs(X_train, X_test, y_train, y_test)\n",
    "rf_fit_wv=fit_tuned_rf_model(rf)"
   ]
  },
  {
   "cell_type": "code",
   "execution_count": 164,
   "metadata": {},
   "outputs": [
    {
     "data": {
      "text/plain": [
       "<BarContainer object of 14 artists>"
      ]
     },
     "execution_count": 164,
     "metadata": {},
     "output_type": "execute_result"
    },
    {
     "data": {
      "image/png": "[encoded data removed]",
      "text/plain": [
       "<Figure size 864x864 with 1 Axes>"
      ]
     },
     "metadata": {
      "needs_background": "light"
     },
     "output_type": "display_data"
    }
   ],
   "source": [
    "#plot most important features\n",
    "from itertools import islice\n",
    "importance=rf_fit_wv[0].feature_importances_\n",
    "feat_dict=dict(zip(df.columns,importance))\n",
    "sort={k: v for k, v in sorted(feat_dict.items(), reverse=False, key=lambda item: item[1])}\n",
    "n_items=list(islice(sort.items(), 50))\n",
    "coeffs=[round(i[1],5) for i in n_items]\n",
    "indices=[i[0] for i in n_items]\n",
    "plt.figure(figsize=(12,12))\n",
    "plt.barh(indices, coeffs)"
   ]
  },
  {
   "cell_type": "markdown",
   "metadata": {},
   "source": [
    "With a cross validated, tuned random forest model we can get a ROC-AUC score of 0.85 for predicting client retention. The most importand features that predict retention probabilities are avg_rating_by_driver (the rider’s average rating over all of their trips), surge_pct (the percent of trips taken with surge multiplier > 1), weekday_pct (the percent of the user’s trips occurring during a weekday), and when they are from Kings Landing. It seems that the main factor for rider retention is that clients are satisfied with their ride. Also they are more likely to remain customers when they are more dependent on the rides (during the weekdays, during surge hours)"
   ]
  }
 ],
 "metadata": {
  "kernelspec": {
   "display_name": "Python 3",
   "language": "python",
   "name": "python3"
  },
  "language_info": {
   "codemirror_mode": {
    "name": "ipython",
    "version": 3
   },
   "file_extension": ".py",
   "mimetype": "text/x-python",
   "name": "python",
   "nbconvert_exporter": "python",
   "pygments_lexer": "ipython3",
   "version": "3.8.5"
  }
 },
 "nbformat": 4,
 "nbformat_minor": 4
}
